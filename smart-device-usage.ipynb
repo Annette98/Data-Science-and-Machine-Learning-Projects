{
 "cells": [
  {
   "cell_type": "markdown",
   "id": "ff029afc",
   "metadata": {
    "papermill": {
     "duration": 0.010379,
     "end_time": "2022-06-30T20:07:40.831122",
     "exception": false,
     "start_time": "2022-06-30T20:07:40.820743",
     "status": "completed"
    },
    "tags": []
   },
   "source": [
    "**BELLABEAT CASE STUDY**\n",
    "\n",
    "rška Sršen and Sando Mur founded Bellabeat, a high-tech company that manufactures health-focused smart products that informs and inspires women around the world.Since it was founded in 2013, Bellabeat has grown rapidly and quickly positioned itself as a tech-driven wellness company for women."
   ]
  },
  {
   "cell_type": "markdown",
   "id": "f7ef3359",
   "metadata": {
    "papermill": {
     "duration": 0.009227,
     "end_time": "2022-06-30T20:07:40.849443",
     "exception": false,
     "start_time": "2022-06-30T20:07:40.840216",
     "status": "completed"
    },
    "tags": []
   },
   "source": [
    "**Business task:**\n",
    "\n",
    "Analyze smart device usage data in order to gain insight into how consumers use non-Bellabeat smart devices. Apply insights to one Bellabeat product to influence bellabeat marketing strategy."
   ]
  },
  {
   "cell_type": "markdown",
   "id": "0ad38567",
   "metadata": {
    "papermill": {
     "duration": 0.009249,
     "end_time": "2022-06-30T20:07:40.867780",
     "exception": false,
     "start_time": "2022-06-30T20:07:40.858531",
     "status": "completed"
    },
    "tags": []
   },
   "source": [
    "**DATA PREPARATION**\n",
    "\n",
    "* The data was accessed from https://www.kaggle.com/arashnic/fitbit . It was obtained from survey via Amazon Mechanical Turk between 03.12.2016-05.12.2016\n",
    "* The data is a bit outdated knowing that trends evolve with time.\n",
    "* The data is organized in both long and wide format.\n",
    "* The data is bias has it doesn’t provide sufficient information on the users like the age, location and has only information about 33 participants; this appears to be a sampling bias. It also doesn’t provide a unit of measurement for factors like distance.\n",
    "* The dataset doesn’t completely ROCCC(Reliable, Original, Current, Comprehensive,Cited . It is not current and hasn’t been updated recently, it is not comprehensive.\n",
    "* The dataset is incomplete, some values appear to be missing but the data can still be worked with as those values are not a major determinant to the business task"
   ]
  },
  {
   "cell_type": "markdown",
   "id": "49012834",
   "metadata": {
    "papermill": {
     "duration": 0.00934,
     "end_time": "2022-06-30T20:07:40.886538",
     "exception": false,
     "start_time": "2022-06-30T20:07:40.877198",
     "status": "completed"
    },
    "tags": []
   },
   "source": [
    "The data was downloaded as a CSV file. The dataset is a large one and spreadsheets don't work well with large datasets as it takes alot of time to process large data. SQL or R were the best options, I chose to use R out of preference. R studio was used for data cleaning, analysis and visualizations. Tableau could substitute for the visuals but i choose R to keep my work in one space."
   ]
  },
  {
   "cell_type": "markdown",
   "id": "f6eea79b",
   "metadata": {
    "papermill": {
     "duration": 0.009163,
     "end_time": "2022-06-30T20:07:40.904628",
     "exception": false,
     "start_time": "2022-06-30T20:07:40.895465",
     "status": "completed"
    },
    "tags": []
   },
   "source": [
    "**PROCESS**\n",
    "\n",
    "The files were uploaded to R studio and the following packages were installed before working with the data; dplyr, lubridate, tidyverse, janitor, ggplot2"
   ]
  },
  {
   "cell_type": "code",
   "execution_count": 1,
   "id": "b9fa948e",
   "metadata": {
    "execution": {
     "iopub.execute_input": "2022-06-30T20:07:40.927555Z",
     "iopub.status.busy": "2022-06-30T20:07:40.925393Z",
     "iopub.status.idle": "2022-06-30T20:09:20.317884Z",
     "shell.execute_reply": "2022-06-30T20:09:20.314923Z"
    },
    "papermill": {
     "duration": 99.407004,
     "end_time": "2022-06-30T20:09:20.321358",
     "exception": false,
     "start_time": "2022-06-30T20:07:40.914354",
     "status": "completed"
    },
    "tags": []
   },
   "outputs": [
    {
     "name": "stderr",
     "output_type": "stream",
     "text": [
      "Installing package into ‘/usr/local/lib/R/site-library’\n",
      "(as ‘lib’ is unspecified)\n",
      "\n",
      "── \u001b[1mAttaching packages\u001b[22m ─────────────────────────────────────── tidyverse 1.3.1 ──\n",
      "\n",
      "\u001b[32m✔\u001b[39m \u001b[34mggplot2\u001b[39m 3.3.6     \u001b[32m✔\u001b[39m \u001b[34mpurrr  \u001b[39m 0.3.4\n",
      "\u001b[32m✔\u001b[39m \u001b[34mtibble \u001b[39m 3.1.7     \u001b[32m✔\u001b[39m \u001b[34mdplyr  \u001b[39m 1.0.9\n",
      "\u001b[32m✔\u001b[39m \u001b[34mtidyr  \u001b[39m 1.2.0     \u001b[32m✔\u001b[39m \u001b[34mstringr\u001b[39m 1.4.0\n",
      "\u001b[32m✔\u001b[39m \u001b[34mreadr  \u001b[39m 2.1.2     \u001b[32m✔\u001b[39m \u001b[34mforcats\u001b[39m 0.5.1\n",
      "\n",
      "── \u001b[1mConflicts\u001b[22m ────────────────────────────────────────── tidyverse_conflicts() ──\n",
      "\u001b[31m✖\u001b[39m \u001b[34mdplyr\u001b[39m::\u001b[32mfilter()\u001b[39m masks \u001b[34mstats\u001b[39m::filter()\n",
      "\u001b[31m✖\u001b[39m \u001b[34mdplyr\u001b[39m::\u001b[32mlag()\u001b[39m    masks \u001b[34mstats\u001b[39m::lag()\n",
      "\n",
      "Installing package into ‘/usr/local/lib/R/site-library’\n",
      "(as ‘lib’ is unspecified)\n",
      "\n",
      "Warning message in install.packages(\"dplyr\"):\n",
      "“installation of package ‘dplyr’ had non-zero exit status”\n",
      "Installing package into ‘/usr/local/lib/R/site-library’\n",
      "(as ‘lib’ is unspecified)\n",
      "\n",
      "\n",
      "Attaching package: ‘lubridate’\n",
      "\n",
      "\n",
      "The following objects are masked from ‘package:base’:\n",
      "\n",
      "    date, intersect, setdiff, union\n",
      "\n",
      "\n",
      "Installing package into ‘/usr/local/lib/R/site-library’\n",
      "(as ‘lib’ is unspecified)\n",
      "\n",
      "\n",
      "Attaching package: ‘janitor’\n",
      "\n",
      "\n",
      "The following objects are masked from ‘package:stats’:\n",
      "\n",
      "    chisq.test, fisher.test\n",
      "\n",
      "\n",
      "Installing package into ‘/usr/local/lib/R/site-library’\n",
      "(as ‘lib’ is unspecified)\n",
      "\n"
     ]
    }
   ],
   "source": [
    "install.packages(\"tidyverse\")\n",
    "library(tidyverse)\n",
    "install.packages(\"dplyr\")\n",
    "library(dplyr)\n",
    "install.packages(\"lubridate\")\n",
    "library(lubridate)\n",
    "install.packages(\"janitor\")\n",
    "library(janitor)\n",
    "install.packages(\"ggplot2\")\n",
    "library(ggplot2)"
   ]
  },
  {
   "cell_type": "markdown",
   "id": "ad61a42a",
   "metadata": {
    "papermill": {
     "duration": 0.01078,
     "end_time": "2022-06-30T20:09:20.345820",
     "exception": false,
     "start_time": "2022-06-30T20:09:20.335040",
     "status": "completed"
    },
    "tags": []
   },
   "source": [
    "On inspecting the datasets, not all the datset seemed relevant to the business task while some of the datsets appeared to be repetitions. Only the relevant datasets were loaded as dataframes and worked with."
   ]
  },
  {
   "cell_type": "code",
   "execution_count": 2,
   "id": "4339b3f0",
   "metadata": {
    "execution": {
     "iopub.execute_input": "2022-06-30T20:09:20.399438Z",
     "iopub.status.busy": "2022-06-30T20:09:20.370702Z",
     "iopub.status.idle": "2022-06-30T20:09:20.929078Z",
     "shell.execute_reply": "2022-06-30T20:09:20.926508Z"
    },
    "papermill": {
     "duration": 0.576218,
     "end_time": "2022-06-30T20:09:20.932510",
     "exception": false,
     "start_time": "2022-06-30T20:09:20.356292",
     "status": "completed"
    },
    "tags": []
   },
   "outputs": [
    {
     "name": "stderr",
     "output_type": "stream",
     "text": [
      "\u001b[1mRows: \u001b[22m\u001b[34m940\u001b[39m \u001b[1mColumns: \u001b[22m\u001b[34m15\u001b[39m\n",
      "\u001b[36m──\u001b[39m \u001b[1mColumn specification\u001b[22m \u001b[36m────────────────────────────────────────────────────────\u001b[39m\n",
      "\u001b[1mDelimiter:\u001b[22m \",\"\n",
      "\u001b[31mchr\u001b[39m  (1): ActivityDate\n",
      "\u001b[32mdbl\u001b[39m (14): Id, TotalSteps, TotalDistance, TrackerDistance, LoggedActivitiesDi...\n",
      "\n",
      "\u001b[36mℹ\u001b[39m Use `spec()` to retrieve the full column specification for this data.\n",
      "\u001b[36mℹ\u001b[39m Specify the column types or set `show_col_types = FALSE` to quiet this message.\n",
      "\u001b[1mRows: \u001b[22m\u001b[34m413\u001b[39m \u001b[1mColumns: \u001b[22m\u001b[34m5\u001b[39m\n",
      "\u001b[36m──\u001b[39m \u001b[1mColumn specification\u001b[22m \u001b[36m────────────────────────────────────────────────────────\u001b[39m\n",
      "\u001b[1mDelimiter:\u001b[22m \",\"\n",
      "\u001b[31mchr\u001b[39m (1): SleepDay\n",
      "\u001b[32mdbl\u001b[39m (4): Id, TotalSleepRecords, TotalMinutesAsleep, TotalTimeInBed\n",
      "\n",
      "\u001b[36mℹ\u001b[39m Use `spec()` to retrieve the full column specification for this data.\n",
      "\u001b[36mℹ\u001b[39m Specify the column types or set `show_col_types = FALSE` to quiet this message.\n",
      "\u001b[1mRows: \u001b[22m\u001b[34m67\u001b[39m \u001b[1mColumns: \u001b[22m\u001b[34m8\u001b[39m\n",
      "\u001b[36m──\u001b[39m \u001b[1mColumn specification\u001b[22m \u001b[36m────────────────────────────────────────────────────────\u001b[39m\n",
      "\u001b[1mDelimiter:\u001b[22m \",\"\n",
      "\u001b[31mchr\u001b[39m (1): Date\n",
      "\u001b[32mdbl\u001b[39m (6): Id, WeightKg, WeightPounds, Fat, BMI, LogId\n",
      "\u001b[33mlgl\u001b[39m (1): IsManualReport\n",
      "\n",
      "\u001b[36mℹ\u001b[39m Use `spec()` to retrieve the full column specification for this data.\n",
      "\u001b[36mℹ\u001b[39m Specify the column types or set `show_col_types = FALSE` to quiet this message.\n"
     ]
    }
   ],
   "source": [
    "daily_activity <- read_csv(\"../input/fitabase-data/Fitabase Data 4.12.16-5.12.16/dailyActivity_merged.csv\")\n",
    "\n",
    "sleep_day <-read_csv(\"../input/fitabase-data/Fitabase Data 4.12.16-5.12.16/sleepDay_merged.csv\")\n",
    " \n",
    "weight_log <-read_csv(\"../input/fitabase-data/Fitabase Data 4.12.16-5.12.16/weightLogInfo_merged.csv\")"
   ]
  },
  {
   "cell_type": "markdown",
   "id": "66ade91a",
   "metadata": {
    "papermill": {
     "duration": 0.010486,
     "end_time": "2022-06-30T20:09:20.953292",
     "exception": false,
     "start_time": "2022-06-30T20:09:20.942806",
     "status": "completed"
    },
    "tags": []
   },
   "source": [
    "Viewing our data"
   ]
  },
  {
   "cell_type": "code",
   "execution_count": 3,
   "id": "cde0a7ed",
   "metadata": {
    "execution": {
     "iopub.execute_input": "2022-06-30T20:09:20.979473Z",
     "iopub.status.busy": "2022-06-30T20:09:20.977824Z",
     "iopub.status.idle": "2022-06-30T20:09:21.048481Z",
     "shell.execute_reply": "2022-06-30T20:09:21.046215Z"
    },
    "papermill": {
     "duration": 0.087374,
     "end_time": "2022-06-30T20:09:21.051490",
     "exception": false,
     "start_time": "2022-06-30T20:09:20.964116",
     "status": "completed"
    },
    "tags": []
   },
   "outputs": [
    {
     "data": {
      "text/html": [
       "<table class=\"dataframe\">\n",
       "<caption>A tibble: 6 × 15</caption>\n",
       "<thead>\n",
       "\t<tr><th scope=col>Id</th><th scope=col>ActivityDate</th><th scope=col>TotalSteps</th><th scope=col>TotalDistance</th><th scope=col>TrackerDistance</th><th scope=col>LoggedActivitiesDistance</th><th scope=col>VeryActiveDistance</th><th scope=col>ModeratelyActiveDistance</th><th scope=col>LightActiveDistance</th><th scope=col>SedentaryActiveDistance</th><th scope=col>VeryActiveMinutes</th><th scope=col>FairlyActiveMinutes</th><th scope=col>LightlyActiveMinutes</th><th scope=col>SedentaryMinutes</th><th scope=col>Calories</th></tr>\n",
       "\t<tr><th scope=col>&lt;dbl&gt;</th><th scope=col>&lt;chr&gt;</th><th scope=col>&lt;dbl&gt;</th><th scope=col>&lt;dbl&gt;</th><th scope=col>&lt;dbl&gt;</th><th scope=col>&lt;dbl&gt;</th><th scope=col>&lt;dbl&gt;</th><th scope=col>&lt;dbl&gt;</th><th scope=col>&lt;dbl&gt;</th><th scope=col>&lt;dbl&gt;</th><th scope=col>&lt;dbl&gt;</th><th scope=col>&lt;dbl&gt;</th><th scope=col>&lt;dbl&gt;</th><th scope=col>&lt;dbl&gt;</th><th scope=col>&lt;dbl&gt;</th></tr>\n",
       "</thead>\n",
       "<tbody>\n",
       "\t<tr><td>1503960366</td><td>4/12/2016</td><td>13162</td><td>8.50</td><td>8.50</td><td>0</td><td>1.88</td><td>0.55</td><td>6.06</td><td>0</td><td>25</td><td>13</td><td>328</td><td> 728</td><td>1985</td></tr>\n",
       "\t<tr><td>1503960366</td><td>4/13/2016</td><td>10735</td><td>6.97</td><td>6.97</td><td>0</td><td>1.57</td><td>0.69</td><td>4.71</td><td>0</td><td>21</td><td>19</td><td>217</td><td> 776</td><td>1797</td></tr>\n",
       "\t<tr><td>1503960366</td><td>4/14/2016</td><td>10460</td><td>6.74</td><td>6.74</td><td>0</td><td>2.44</td><td>0.40</td><td>3.91</td><td>0</td><td>30</td><td>11</td><td>181</td><td>1218</td><td>1776</td></tr>\n",
       "\t<tr><td>1503960366</td><td>4/15/2016</td><td> 9762</td><td>6.28</td><td>6.28</td><td>0</td><td>2.14</td><td>1.26</td><td>2.83</td><td>0</td><td>29</td><td>34</td><td>209</td><td> 726</td><td>1745</td></tr>\n",
       "\t<tr><td>1503960366</td><td>4/16/2016</td><td>12669</td><td>8.16</td><td>8.16</td><td>0</td><td>2.71</td><td>0.41</td><td>5.04</td><td>0</td><td>36</td><td>10</td><td>221</td><td> 773</td><td>1863</td></tr>\n",
       "\t<tr><td>1503960366</td><td>4/17/2016</td><td> 9705</td><td>6.48</td><td>6.48</td><td>0</td><td>3.19</td><td>0.78</td><td>2.51</td><td>0</td><td>38</td><td>20</td><td>164</td><td> 539</td><td>1728</td></tr>\n",
       "</tbody>\n",
       "</table>\n"
      ],
      "text/latex": [
       "A tibble: 6 × 15\n",
       "\\begin{tabular}{lllllllllllllll}\n",
       " Id & ActivityDate & TotalSteps & TotalDistance & TrackerDistance & LoggedActivitiesDistance & VeryActiveDistance & ModeratelyActiveDistance & LightActiveDistance & SedentaryActiveDistance & VeryActiveMinutes & FairlyActiveMinutes & LightlyActiveMinutes & SedentaryMinutes & Calories\\\\\n",
       " <dbl> & <chr> & <dbl> & <dbl> & <dbl> & <dbl> & <dbl> & <dbl> & <dbl> & <dbl> & <dbl> & <dbl> & <dbl> & <dbl> & <dbl>\\\\\n",
       "\\hline\n",
       "\t 1503960366 & 4/12/2016 & 13162 & 8.50 & 8.50 & 0 & 1.88 & 0.55 & 6.06 & 0 & 25 & 13 & 328 &  728 & 1985\\\\\n",
       "\t 1503960366 & 4/13/2016 & 10735 & 6.97 & 6.97 & 0 & 1.57 & 0.69 & 4.71 & 0 & 21 & 19 & 217 &  776 & 1797\\\\\n",
       "\t 1503960366 & 4/14/2016 & 10460 & 6.74 & 6.74 & 0 & 2.44 & 0.40 & 3.91 & 0 & 30 & 11 & 181 & 1218 & 1776\\\\\n",
       "\t 1503960366 & 4/15/2016 &  9762 & 6.28 & 6.28 & 0 & 2.14 & 1.26 & 2.83 & 0 & 29 & 34 & 209 &  726 & 1745\\\\\n",
       "\t 1503960366 & 4/16/2016 & 12669 & 8.16 & 8.16 & 0 & 2.71 & 0.41 & 5.04 & 0 & 36 & 10 & 221 &  773 & 1863\\\\\n",
       "\t 1503960366 & 4/17/2016 &  9705 & 6.48 & 6.48 & 0 & 3.19 & 0.78 & 2.51 & 0 & 38 & 20 & 164 &  539 & 1728\\\\\n",
       "\\end{tabular}\n"
      ],
      "text/markdown": [
       "\n",
       "A tibble: 6 × 15\n",
       "\n",
       "| Id &lt;dbl&gt; | ActivityDate &lt;chr&gt; | TotalSteps &lt;dbl&gt; | TotalDistance &lt;dbl&gt; | TrackerDistance &lt;dbl&gt; | LoggedActivitiesDistance &lt;dbl&gt; | VeryActiveDistance &lt;dbl&gt; | ModeratelyActiveDistance &lt;dbl&gt; | LightActiveDistance &lt;dbl&gt; | SedentaryActiveDistance &lt;dbl&gt; | VeryActiveMinutes &lt;dbl&gt; | FairlyActiveMinutes &lt;dbl&gt; | LightlyActiveMinutes &lt;dbl&gt; | SedentaryMinutes &lt;dbl&gt; | Calories &lt;dbl&gt; |\n",
       "|---|---|---|---|---|---|---|---|---|---|---|---|---|---|---|\n",
       "| 1503960366 | 4/12/2016 | 13162 | 8.50 | 8.50 | 0 | 1.88 | 0.55 | 6.06 | 0 | 25 | 13 | 328 |  728 | 1985 |\n",
       "| 1503960366 | 4/13/2016 | 10735 | 6.97 | 6.97 | 0 | 1.57 | 0.69 | 4.71 | 0 | 21 | 19 | 217 |  776 | 1797 |\n",
       "| 1503960366 | 4/14/2016 | 10460 | 6.74 | 6.74 | 0 | 2.44 | 0.40 | 3.91 | 0 | 30 | 11 | 181 | 1218 | 1776 |\n",
       "| 1503960366 | 4/15/2016 |  9762 | 6.28 | 6.28 | 0 | 2.14 | 1.26 | 2.83 | 0 | 29 | 34 | 209 |  726 | 1745 |\n",
       "| 1503960366 | 4/16/2016 | 12669 | 8.16 | 8.16 | 0 | 2.71 | 0.41 | 5.04 | 0 | 36 | 10 | 221 |  773 | 1863 |\n",
       "| 1503960366 | 4/17/2016 |  9705 | 6.48 | 6.48 | 0 | 3.19 | 0.78 | 2.51 | 0 | 38 | 20 | 164 |  539 | 1728 |\n",
       "\n"
      ],
      "text/plain": [
       "  Id         ActivityDate TotalSteps TotalDistance TrackerDistance\n",
       "1 1503960366 4/12/2016    13162      8.50          8.50           \n",
       "2 1503960366 4/13/2016    10735      6.97          6.97           \n",
       "3 1503960366 4/14/2016    10460      6.74          6.74           \n",
       "4 1503960366 4/15/2016     9762      6.28          6.28           \n",
       "5 1503960366 4/16/2016    12669      8.16          8.16           \n",
       "6 1503960366 4/17/2016     9705      6.48          6.48           \n",
       "  LoggedActivitiesDistance VeryActiveDistance ModeratelyActiveDistance\n",
       "1 0                        1.88               0.55                    \n",
       "2 0                        1.57               0.69                    \n",
       "3 0                        2.44               0.40                    \n",
       "4 0                        2.14               1.26                    \n",
       "5 0                        2.71               0.41                    \n",
       "6 0                        3.19               0.78                    \n",
       "  LightActiveDistance SedentaryActiveDistance VeryActiveMinutes\n",
       "1 6.06                0                       25               \n",
       "2 4.71                0                       21               \n",
       "3 3.91                0                       30               \n",
       "4 2.83                0                       29               \n",
       "5 5.04                0                       36               \n",
       "6 2.51                0                       38               \n",
       "  FairlyActiveMinutes LightlyActiveMinutes SedentaryMinutes Calories\n",
       "1 13                  328                   728             1985    \n",
       "2 19                  217                   776             1797    \n",
       "3 11                  181                  1218             1776    \n",
       "4 34                  209                   726             1745    \n",
       "5 10                  221                   773             1863    \n",
       "6 20                  164                   539             1728    "
      ]
     },
     "metadata": {},
     "output_type": "display_data"
    },
    {
     "data": {
      "text/html": [
       "<table class=\"dataframe\">\n",
       "<caption>A tibble: 6 × 8</caption>\n",
       "<thead>\n",
       "\t<tr><th scope=col>Id</th><th scope=col>Date</th><th scope=col>WeightKg</th><th scope=col>WeightPounds</th><th scope=col>Fat</th><th scope=col>BMI</th><th scope=col>IsManualReport</th><th scope=col>LogId</th></tr>\n",
       "\t<tr><th scope=col>&lt;dbl&gt;</th><th scope=col>&lt;chr&gt;</th><th scope=col>&lt;dbl&gt;</th><th scope=col>&lt;dbl&gt;</th><th scope=col>&lt;dbl&gt;</th><th scope=col>&lt;dbl&gt;</th><th scope=col>&lt;lgl&gt;</th><th scope=col>&lt;dbl&gt;</th></tr>\n",
       "</thead>\n",
       "<tbody>\n",
       "\t<tr><td>1503960366</td><td>5/2/2016 11:59:59 PM </td><td> 52.6</td><td>115.9631</td><td>22</td><td>22.65</td><td> TRUE</td><td>1.462234e+12</td></tr>\n",
       "\t<tr><td>1503960366</td><td>5/3/2016 11:59:59 PM </td><td> 52.6</td><td>115.9631</td><td>NA</td><td>22.65</td><td> TRUE</td><td>1.462320e+12</td></tr>\n",
       "\t<tr><td>1927972279</td><td>4/13/2016 1:08:52 AM </td><td>133.5</td><td>294.3171</td><td>NA</td><td>47.54</td><td>FALSE</td><td>1.460510e+12</td></tr>\n",
       "\t<tr><td>2873212765</td><td>4/21/2016 11:59:59 PM</td><td> 56.7</td><td>125.0021</td><td>NA</td><td>21.45</td><td> TRUE</td><td>1.461283e+12</td></tr>\n",
       "\t<tr><td>2873212765</td><td>5/12/2016 11:59:59 PM</td><td> 57.3</td><td>126.3249</td><td>NA</td><td>21.69</td><td> TRUE</td><td>1.463098e+12</td></tr>\n",
       "\t<tr><td>4319703577</td><td>4/17/2016 11:59:59 PM</td><td> 72.4</td><td>159.6147</td><td>25</td><td>27.45</td><td> TRUE</td><td>1.460938e+12</td></tr>\n",
       "</tbody>\n",
       "</table>\n"
      ],
      "text/latex": [
       "A tibble: 6 × 8\n",
       "\\begin{tabular}{llllllll}\n",
       " Id & Date & WeightKg & WeightPounds & Fat & BMI & IsManualReport & LogId\\\\\n",
       " <dbl> & <chr> & <dbl> & <dbl> & <dbl> & <dbl> & <lgl> & <dbl>\\\\\n",
       "\\hline\n",
       "\t 1503960366 & 5/2/2016 11:59:59 PM  &  52.6 & 115.9631 & 22 & 22.65 &  TRUE & 1.462234e+12\\\\\n",
       "\t 1503960366 & 5/3/2016 11:59:59 PM  &  52.6 & 115.9631 & NA & 22.65 &  TRUE & 1.462320e+12\\\\\n",
       "\t 1927972279 & 4/13/2016 1:08:52 AM  & 133.5 & 294.3171 & NA & 47.54 & FALSE & 1.460510e+12\\\\\n",
       "\t 2873212765 & 4/21/2016 11:59:59 PM &  56.7 & 125.0021 & NA & 21.45 &  TRUE & 1.461283e+12\\\\\n",
       "\t 2873212765 & 5/12/2016 11:59:59 PM &  57.3 & 126.3249 & NA & 21.69 &  TRUE & 1.463098e+12\\\\\n",
       "\t 4319703577 & 4/17/2016 11:59:59 PM &  72.4 & 159.6147 & 25 & 27.45 &  TRUE & 1.460938e+12\\\\\n",
       "\\end{tabular}\n"
      ],
      "text/markdown": [
       "\n",
       "A tibble: 6 × 8\n",
       "\n",
       "| Id &lt;dbl&gt; | Date &lt;chr&gt; | WeightKg &lt;dbl&gt; | WeightPounds &lt;dbl&gt; | Fat &lt;dbl&gt; | BMI &lt;dbl&gt; | IsManualReport &lt;lgl&gt; | LogId &lt;dbl&gt; |\n",
       "|---|---|---|---|---|---|---|---|\n",
       "| 1503960366 | 5/2/2016 11:59:59 PM  |  52.6 | 115.9631 | 22 | 22.65 |  TRUE | 1.462234e+12 |\n",
       "| 1503960366 | 5/3/2016 11:59:59 PM  |  52.6 | 115.9631 | NA | 22.65 |  TRUE | 1.462320e+12 |\n",
       "| 1927972279 | 4/13/2016 1:08:52 AM  | 133.5 | 294.3171 | NA | 47.54 | FALSE | 1.460510e+12 |\n",
       "| 2873212765 | 4/21/2016 11:59:59 PM |  56.7 | 125.0021 | NA | 21.45 |  TRUE | 1.461283e+12 |\n",
       "| 2873212765 | 5/12/2016 11:59:59 PM |  57.3 | 126.3249 | NA | 21.69 |  TRUE | 1.463098e+12 |\n",
       "| 4319703577 | 4/17/2016 11:59:59 PM |  72.4 | 159.6147 | 25 | 27.45 |  TRUE | 1.460938e+12 |\n",
       "\n"
      ],
      "text/plain": [
       "  Id         Date                  WeightKg WeightPounds Fat BMI  \n",
       "1 1503960366 5/2/2016 11:59:59 PM   52.6    115.9631     22  22.65\n",
       "2 1503960366 5/3/2016 11:59:59 PM   52.6    115.9631     NA  22.65\n",
       "3 1927972279 4/13/2016 1:08:52 AM  133.5    294.3171     NA  47.54\n",
       "4 2873212765 4/21/2016 11:59:59 PM  56.7    125.0021     NA  21.45\n",
       "5 2873212765 5/12/2016 11:59:59 PM  57.3    126.3249     NA  21.69\n",
       "6 4319703577 4/17/2016 11:59:59 PM  72.4    159.6147     25  27.45\n",
       "  IsManualReport LogId       \n",
       "1  TRUE          1.462234e+12\n",
       "2  TRUE          1.462320e+12\n",
       "3 FALSE          1.460510e+12\n",
       "4  TRUE          1.461283e+12\n",
       "5  TRUE          1.463098e+12\n",
       "6  TRUE          1.460938e+12"
      ]
     },
     "metadata": {},
     "output_type": "display_data"
    },
    {
     "data": {
      "text/html": [
       "<table class=\"dataframe\">\n",
       "<caption>A tibble: 6 × 5</caption>\n",
       "<thead>\n",
       "\t<tr><th scope=col>Id</th><th scope=col>SleepDay</th><th scope=col>TotalSleepRecords</th><th scope=col>TotalMinutesAsleep</th><th scope=col>TotalTimeInBed</th></tr>\n",
       "\t<tr><th scope=col>&lt;dbl&gt;</th><th scope=col>&lt;chr&gt;</th><th scope=col>&lt;dbl&gt;</th><th scope=col>&lt;dbl&gt;</th><th scope=col>&lt;dbl&gt;</th></tr>\n",
       "</thead>\n",
       "<tbody>\n",
       "\t<tr><td>1503960366</td><td>4/12/2016 12:00:00 AM</td><td>1</td><td>327</td><td>346</td></tr>\n",
       "\t<tr><td>1503960366</td><td>4/13/2016 12:00:00 AM</td><td>2</td><td>384</td><td>407</td></tr>\n",
       "\t<tr><td>1503960366</td><td>4/15/2016 12:00:00 AM</td><td>1</td><td>412</td><td>442</td></tr>\n",
       "\t<tr><td>1503960366</td><td>4/16/2016 12:00:00 AM</td><td>2</td><td>340</td><td>367</td></tr>\n",
       "\t<tr><td>1503960366</td><td>4/17/2016 12:00:00 AM</td><td>1</td><td>700</td><td>712</td></tr>\n",
       "\t<tr><td>1503960366</td><td>4/19/2016 12:00:00 AM</td><td>1</td><td>304</td><td>320</td></tr>\n",
       "</tbody>\n",
       "</table>\n"
      ],
      "text/latex": [
       "A tibble: 6 × 5\n",
       "\\begin{tabular}{lllll}\n",
       " Id & SleepDay & TotalSleepRecords & TotalMinutesAsleep & TotalTimeInBed\\\\\n",
       " <dbl> & <chr> & <dbl> & <dbl> & <dbl>\\\\\n",
       "\\hline\n",
       "\t 1503960366 & 4/12/2016 12:00:00 AM & 1 & 327 & 346\\\\\n",
       "\t 1503960366 & 4/13/2016 12:00:00 AM & 2 & 384 & 407\\\\\n",
       "\t 1503960366 & 4/15/2016 12:00:00 AM & 1 & 412 & 442\\\\\n",
       "\t 1503960366 & 4/16/2016 12:00:00 AM & 2 & 340 & 367\\\\\n",
       "\t 1503960366 & 4/17/2016 12:00:00 AM & 1 & 700 & 712\\\\\n",
       "\t 1503960366 & 4/19/2016 12:00:00 AM & 1 & 304 & 320\\\\\n",
       "\\end{tabular}\n"
      ],
      "text/markdown": [
       "\n",
       "A tibble: 6 × 5\n",
       "\n",
       "| Id &lt;dbl&gt; | SleepDay &lt;chr&gt; | TotalSleepRecords &lt;dbl&gt; | TotalMinutesAsleep &lt;dbl&gt; | TotalTimeInBed &lt;dbl&gt; |\n",
       "|---|---|---|---|---|\n",
       "| 1503960366 | 4/12/2016 12:00:00 AM | 1 | 327 | 346 |\n",
       "| 1503960366 | 4/13/2016 12:00:00 AM | 2 | 384 | 407 |\n",
       "| 1503960366 | 4/15/2016 12:00:00 AM | 1 | 412 | 442 |\n",
       "| 1503960366 | 4/16/2016 12:00:00 AM | 2 | 340 | 367 |\n",
       "| 1503960366 | 4/17/2016 12:00:00 AM | 1 | 700 | 712 |\n",
       "| 1503960366 | 4/19/2016 12:00:00 AM | 1 | 304 | 320 |\n",
       "\n"
      ],
      "text/plain": [
       "  Id         SleepDay              TotalSleepRecords TotalMinutesAsleep\n",
       "1 1503960366 4/12/2016 12:00:00 AM 1                 327               \n",
       "2 1503960366 4/13/2016 12:00:00 AM 2                 384               \n",
       "3 1503960366 4/15/2016 12:00:00 AM 1                 412               \n",
       "4 1503960366 4/16/2016 12:00:00 AM 2                 340               \n",
       "5 1503960366 4/17/2016 12:00:00 AM 1                 700               \n",
       "6 1503960366 4/19/2016 12:00:00 AM 1                 304               \n",
       "  TotalTimeInBed\n",
       "1 346           \n",
       "2 407           \n",
       "3 442           \n",
       "4 367           \n",
       "5 712           \n",
       "6 320           "
      ]
     },
     "metadata": {},
     "output_type": "display_data"
    }
   ],
   "source": [
    "head(daily_activity)\n",
    "head(weight_log)\n",
    "head(sleep_day)"
   ]
  },
  {
   "cell_type": "markdown",
   "id": "253ff7c9",
   "metadata": {
    "papermill": {
     "duration": 0.011999,
     "end_time": "2022-06-30T20:09:21.075275",
     "exception": false,
     "start_time": "2022-06-30T20:09:21.063276",
     "status": "completed"
    },
    "tags": []
   },
   "source": [
    "We can see that the column names are not formatted properly. For ease, its best we clean up the names. We can use the clean_names() function to do this. We also observe that the date columns are not properly named, using the rename() function, this will be corrected as well. Lastly, we will sort the columns by id and store this clean data into a new data frame with an underscore c."
   ]
  },
  {
   "cell_type": "code",
   "execution_count": 4,
   "id": "aeeb393a",
   "metadata": {
    "execution": {
     "iopub.execute_input": "2022-06-30T20:09:21.102352Z",
     "iopub.status.busy": "2022-06-30T20:09:21.100715Z",
     "iopub.status.idle": "2022-06-30T20:09:21.291225Z",
     "shell.execute_reply": "2022-06-30T20:09:21.289239Z"
    },
    "papermill": {
     "duration": 0.207711,
     "end_time": "2022-06-30T20:09:21.294712",
     "exception": false,
     "start_time": "2022-06-30T20:09:21.087001",
     "status": "completed"
    },
    "tags": []
   },
   "outputs": [],
   "source": [
    "#cleaning column names and renaming date columns to date. Storing cleaned data into a new dataframe\n",
    "daily_activity_c<- daily_activity %>% \n",
    "  clean_names() %>% \n",
    "  rename(date = activity_date, total_calories= calories) %>%  \n",
    "  arrange(id)\n",
    "\n",
    "sleep_day_c<- sleep_day %>% \n",
    "  clean_names() %>% \n",
    "  rename(date = sleep_day) %>% \n",
    "  arrange(id)\n",
    "\n",
    "\n",
    "weight_log_c <- weight_log %>% \n",
    "  clean_names() %>% \n",
    "  arrange(id)"
   ]
  },
  {
   "cell_type": "markdown",
   "id": "17271bfb",
   "metadata": {
    "papermill": {
     "duration": 0.010979,
     "end_time": "2022-06-30T20:09:21.316502",
     "exception": false,
     "start_time": "2022-06-30T20:09:21.305523",
     "status": "completed"
    },
    "tags": []
   },
   "source": [
    "Lets view the changes made to our data"
   ]
  },
  {
   "cell_type": "markdown",
   "id": "98243936",
   "metadata": {
    "papermill": {
     "duration": 0.012124,
     "end_time": "2022-06-30T20:09:21.341094",
     "exception": false,
     "start_time": "2022-06-30T20:09:21.328970",
     "status": "completed"
    },
    "tags": []
   },
   "source": []
  },
  {
   "cell_type": "code",
   "execution_count": 5,
   "id": "be1debd5",
   "metadata": {
    "execution": {
     "iopub.execute_input": "2022-06-30T20:09:21.368408Z",
     "iopub.status.busy": "2022-06-30T20:09:21.366092Z",
     "iopub.status.idle": "2022-06-30T20:09:21.428118Z",
     "shell.execute_reply": "2022-06-30T20:09:21.425813Z"
    },
    "papermill": {
     "duration": 0.079379,
     "end_time": "2022-06-30T20:09:21.431750",
     "exception": false,
     "start_time": "2022-06-30T20:09:21.352371",
     "status": "completed"
    },
    "tags": []
   },
   "outputs": [
    {
     "data": {
      "text/html": [
       "<table class=\"dataframe\">\n",
       "<caption>A tibble: 6 × 15</caption>\n",
       "<thead>\n",
       "\t<tr><th scope=col>id</th><th scope=col>date</th><th scope=col>total_steps</th><th scope=col>total_distance</th><th scope=col>tracker_distance</th><th scope=col>logged_activities_distance</th><th scope=col>very_active_distance</th><th scope=col>moderately_active_distance</th><th scope=col>light_active_distance</th><th scope=col>sedentary_active_distance</th><th scope=col>very_active_minutes</th><th scope=col>fairly_active_minutes</th><th scope=col>lightly_active_minutes</th><th scope=col>sedentary_minutes</th><th scope=col>total_calories</th></tr>\n",
       "\t<tr><th scope=col>&lt;dbl&gt;</th><th scope=col>&lt;chr&gt;</th><th scope=col>&lt;dbl&gt;</th><th scope=col>&lt;dbl&gt;</th><th scope=col>&lt;dbl&gt;</th><th scope=col>&lt;dbl&gt;</th><th scope=col>&lt;dbl&gt;</th><th scope=col>&lt;dbl&gt;</th><th scope=col>&lt;dbl&gt;</th><th scope=col>&lt;dbl&gt;</th><th scope=col>&lt;dbl&gt;</th><th scope=col>&lt;dbl&gt;</th><th scope=col>&lt;dbl&gt;</th><th scope=col>&lt;dbl&gt;</th><th scope=col>&lt;dbl&gt;</th></tr>\n",
       "</thead>\n",
       "<tbody>\n",
       "\t<tr><td>1503960366</td><td>4/12/2016</td><td>13162</td><td>8.50</td><td>8.50</td><td>0</td><td>1.88</td><td>0.55</td><td>6.06</td><td>0</td><td>25</td><td>13</td><td>328</td><td> 728</td><td>1985</td></tr>\n",
       "\t<tr><td>1503960366</td><td>4/13/2016</td><td>10735</td><td>6.97</td><td>6.97</td><td>0</td><td>1.57</td><td>0.69</td><td>4.71</td><td>0</td><td>21</td><td>19</td><td>217</td><td> 776</td><td>1797</td></tr>\n",
       "\t<tr><td>1503960366</td><td>4/14/2016</td><td>10460</td><td>6.74</td><td>6.74</td><td>0</td><td>2.44</td><td>0.40</td><td>3.91</td><td>0</td><td>30</td><td>11</td><td>181</td><td>1218</td><td>1776</td></tr>\n",
       "\t<tr><td>1503960366</td><td>4/15/2016</td><td> 9762</td><td>6.28</td><td>6.28</td><td>0</td><td>2.14</td><td>1.26</td><td>2.83</td><td>0</td><td>29</td><td>34</td><td>209</td><td> 726</td><td>1745</td></tr>\n",
       "\t<tr><td>1503960366</td><td>4/16/2016</td><td>12669</td><td>8.16</td><td>8.16</td><td>0</td><td>2.71</td><td>0.41</td><td>5.04</td><td>0</td><td>36</td><td>10</td><td>221</td><td> 773</td><td>1863</td></tr>\n",
       "\t<tr><td>1503960366</td><td>4/17/2016</td><td> 9705</td><td>6.48</td><td>6.48</td><td>0</td><td>3.19</td><td>0.78</td><td>2.51</td><td>0</td><td>38</td><td>20</td><td>164</td><td> 539</td><td>1728</td></tr>\n",
       "</tbody>\n",
       "</table>\n"
      ],
      "text/latex": [
       "A tibble: 6 × 15\n",
       "\\begin{tabular}{lllllllllllllll}\n",
       " id & date & total\\_steps & total\\_distance & tracker\\_distance & logged\\_activities\\_distance & very\\_active\\_distance & moderately\\_active\\_distance & light\\_active\\_distance & sedentary\\_active\\_distance & very\\_active\\_minutes & fairly\\_active\\_minutes & lightly\\_active\\_minutes & sedentary\\_minutes & total\\_calories\\\\\n",
       " <dbl> & <chr> & <dbl> & <dbl> & <dbl> & <dbl> & <dbl> & <dbl> & <dbl> & <dbl> & <dbl> & <dbl> & <dbl> & <dbl> & <dbl>\\\\\n",
       "\\hline\n",
       "\t 1503960366 & 4/12/2016 & 13162 & 8.50 & 8.50 & 0 & 1.88 & 0.55 & 6.06 & 0 & 25 & 13 & 328 &  728 & 1985\\\\\n",
       "\t 1503960366 & 4/13/2016 & 10735 & 6.97 & 6.97 & 0 & 1.57 & 0.69 & 4.71 & 0 & 21 & 19 & 217 &  776 & 1797\\\\\n",
       "\t 1503960366 & 4/14/2016 & 10460 & 6.74 & 6.74 & 0 & 2.44 & 0.40 & 3.91 & 0 & 30 & 11 & 181 & 1218 & 1776\\\\\n",
       "\t 1503960366 & 4/15/2016 &  9762 & 6.28 & 6.28 & 0 & 2.14 & 1.26 & 2.83 & 0 & 29 & 34 & 209 &  726 & 1745\\\\\n",
       "\t 1503960366 & 4/16/2016 & 12669 & 8.16 & 8.16 & 0 & 2.71 & 0.41 & 5.04 & 0 & 36 & 10 & 221 &  773 & 1863\\\\\n",
       "\t 1503960366 & 4/17/2016 &  9705 & 6.48 & 6.48 & 0 & 3.19 & 0.78 & 2.51 & 0 & 38 & 20 & 164 &  539 & 1728\\\\\n",
       "\\end{tabular}\n"
      ],
      "text/markdown": [
       "\n",
       "A tibble: 6 × 15\n",
       "\n",
       "| id &lt;dbl&gt; | date &lt;chr&gt; | total_steps &lt;dbl&gt; | total_distance &lt;dbl&gt; | tracker_distance &lt;dbl&gt; | logged_activities_distance &lt;dbl&gt; | very_active_distance &lt;dbl&gt; | moderately_active_distance &lt;dbl&gt; | light_active_distance &lt;dbl&gt; | sedentary_active_distance &lt;dbl&gt; | very_active_minutes &lt;dbl&gt; | fairly_active_minutes &lt;dbl&gt; | lightly_active_minutes &lt;dbl&gt; | sedentary_minutes &lt;dbl&gt; | total_calories &lt;dbl&gt; |\n",
       "|---|---|---|---|---|---|---|---|---|---|---|---|---|---|---|\n",
       "| 1503960366 | 4/12/2016 | 13162 | 8.50 | 8.50 | 0 | 1.88 | 0.55 | 6.06 | 0 | 25 | 13 | 328 |  728 | 1985 |\n",
       "| 1503960366 | 4/13/2016 | 10735 | 6.97 | 6.97 | 0 | 1.57 | 0.69 | 4.71 | 0 | 21 | 19 | 217 |  776 | 1797 |\n",
       "| 1503960366 | 4/14/2016 | 10460 | 6.74 | 6.74 | 0 | 2.44 | 0.40 | 3.91 | 0 | 30 | 11 | 181 | 1218 | 1776 |\n",
       "| 1503960366 | 4/15/2016 |  9762 | 6.28 | 6.28 | 0 | 2.14 | 1.26 | 2.83 | 0 | 29 | 34 | 209 |  726 | 1745 |\n",
       "| 1503960366 | 4/16/2016 | 12669 | 8.16 | 8.16 | 0 | 2.71 | 0.41 | 5.04 | 0 | 36 | 10 | 221 |  773 | 1863 |\n",
       "| 1503960366 | 4/17/2016 |  9705 | 6.48 | 6.48 | 0 | 3.19 | 0.78 | 2.51 | 0 | 38 | 20 | 164 |  539 | 1728 |\n",
       "\n"
      ],
      "text/plain": [
       "  id         date      total_steps total_distance tracker_distance\n",
       "1 1503960366 4/12/2016 13162       8.50           8.50            \n",
       "2 1503960366 4/13/2016 10735       6.97           6.97            \n",
       "3 1503960366 4/14/2016 10460       6.74           6.74            \n",
       "4 1503960366 4/15/2016  9762       6.28           6.28            \n",
       "5 1503960366 4/16/2016 12669       8.16           8.16            \n",
       "6 1503960366 4/17/2016  9705       6.48           6.48            \n",
       "  logged_activities_distance very_active_distance moderately_active_distance\n",
       "1 0                          1.88                 0.55                      \n",
       "2 0                          1.57                 0.69                      \n",
       "3 0                          2.44                 0.40                      \n",
       "4 0                          2.14                 1.26                      \n",
       "5 0                          2.71                 0.41                      \n",
       "6 0                          3.19                 0.78                      \n",
       "  light_active_distance sedentary_active_distance very_active_minutes\n",
       "1 6.06                  0                         25                 \n",
       "2 4.71                  0                         21                 \n",
       "3 3.91                  0                         30                 \n",
       "4 2.83                  0                         29                 \n",
       "5 5.04                  0                         36                 \n",
       "6 2.51                  0                         38                 \n",
       "  fairly_active_minutes lightly_active_minutes sedentary_minutes total_calories\n",
       "1 13                    328                     728              1985          \n",
       "2 19                    217                     776              1797          \n",
       "3 11                    181                    1218              1776          \n",
       "4 34                    209                     726              1745          \n",
       "5 10                    221                     773              1863          \n",
       "6 20                    164                     539              1728          "
      ]
     },
     "metadata": {},
     "output_type": "display_data"
    },
    {
     "data": {
      "text/html": [
       "<table class=\"dataframe\">\n",
       "<caption>A tibble: 6 × 8</caption>\n",
       "<thead>\n",
       "\t<tr><th scope=col>id</th><th scope=col>date</th><th scope=col>weight_kg</th><th scope=col>weight_pounds</th><th scope=col>fat</th><th scope=col>bmi</th><th scope=col>is_manual_report</th><th scope=col>log_id</th></tr>\n",
       "\t<tr><th scope=col>&lt;dbl&gt;</th><th scope=col>&lt;chr&gt;</th><th scope=col>&lt;dbl&gt;</th><th scope=col>&lt;dbl&gt;</th><th scope=col>&lt;dbl&gt;</th><th scope=col>&lt;dbl&gt;</th><th scope=col>&lt;lgl&gt;</th><th scope=col>&lt;dbl&gt;</th></tr>\n",
       "</thead>\n",
       "<tbody>\n",
       "\t<tr><td>1503960366</td><td>5/2/2016 11:59:59 PM </td><td> 52.6</td><td>115.9631</td><td>22</td><td>22.65</td><td> TRUE</td><td>1.462234e+12</td></tr>\n",
       "\t<tr><td>1503960366</td><td>5/3/2016 11:59:59 PM </td><td> 52.6</td><td>115.9631</td><td>NA</td><td>22.65</td><td> TRUE</td><td>1.462320e+12</td></tr>\n",
       "\t<tr><td>1927972279</td><td>4/13/2016 1:08:52 AM </td><td>133.5</td><td>294.3171</td><td>NA</td><td>47.54</td><td>FALSE</td><td>1.460510e+12</td></tr>\n",
       "\t<tr><td>2873212765</td><td>4/21/2016 11:59:59 PM</td><td> 56.7</td><td>125.0021</td><td>NA</td><td>21.45</td><td> TRUE</td><td>1.461283e+12</td></tr>\n",
       "\t<tr><td>2873212765</td><td>5/12/2016 11:59:59 PM</td><td> 57.3</td><td>126.3249</td><td>NA</td><td>21.69</td><td> TRUE</td><td>1.463098e+12</td></tr>\n",
       "\t<tr><td>4319703577</td><td>4/17/2016 11:59:59 PM</td><td> 72.4</td><td>159.6147</td><td>25</td><td>27.45</td><td> TRUE</td><td>1.460938e+12</td></tr>\n",
       "</tbody>\n",
       "</table>\n"
      ],
      "text/latex": [
       "A tibble: 6 × 8\n",
       "\\begin{tabular}{llllllll}\n",
       " id & date & weight\\_kg & weight\\_pounds & fat & bmi & is\\_manual\\_report & log\\_id\\\\\n",
       " <dbl> & <chr> & <dbl> & <dbl> & <dbl> & <dbl> & <lgl> & <dbl>\\\\\n",
       "\\hline\n",
       "\t 1503960366 & 5/2/2016 11:59:59 PM  &  52.6 & 115.9631 & 22 & 22.65 &  TRUE & 1.462234e+12\\\\\n",
       "\t 1503960366 & 5/3/2016 11:59:59 PM  &  52.6 & 115.9631 & NA & 22.65 &  TRUE & 1.462320e+12\\\\\n",
       "\t 1927972279 & 4/13/2016 1:08:52 AM  & 133.5 & 294.3171 & NA & 47.54 & FALSE & 1.460510e+12\\\\\n",
       "\t 2873212765 & 4/21/2016 11:59:59 PM &  56.7 & 125.0021 & NA & 21.45 &  TRUE & 1.461283e+12\\\\\n",
       "\t 2873212765 & 5/12/2016 11:59:59 PM &  57.3 & 126.3249 & NA & 21.69 &  TRUE & 1.463098e+12\\\\\n",
       "\t 4319703577 & 4/17/2016 11:59:59 PM &  72.4 & 159.6147 & 25 & 27.45 &  TRUE & 1.460938e+12\\\\\n",
       "\\end{tabular}\n"
      ],
      "text/markdown": [
       "\n",
       "A tibble: 6 × 8\n",
       "\n",
       "| id &lt;dbl&gt; | date &lt;chr&gt; | weight_kg &lt;dbl&gt; | weight_pounds &lt;dbl&gt; | fat &lt;dbl&gt; | bmi &lt;dbl&gt; | is_manual_report &lt;lgl&gt; | log_id &lt;dbl&gt; |\n",
       "|---|---|---|---|---|---|---|---|\n",
       "| 1503960366 | 5/2/2016 11:59:59 PM  |  52.6 | 115.9631 | 22 | 22.65 |  TRUE | 1.462234e+12 |\n",
       "| 1503960366 | 5/3/2016 11:59:59 PM  |  52.6 | 115.9631 | NA | 22.65 |  TRUE | 1.462320e+12 |\n",
       "| 1927972279 | 4/13/2016 1:08:52 AM  | 133.5 | 294.3171 | NA | 47.54 | FALSE | 1.460510e+12 |\n",
       "| 2873212765 | 4/21/2016 11:59:59 PM |  56.7 | 125.0021 | NA | 21.45 |  TRUE | 1.461283e+12 |\n",
       "| 2873212765 | 5/12/2016 11:59:59 PM |  57.3 | 126.3249 | NA | 21.69 |  TRUE | 1.463098e+12 |\n",
       "| 4319703577 | 4/17/2016 11:59:59 PM |  72.4 | 159.6147 | 25 | 27.45 |  TRUE | 1.460938e+12 |\n",
       "\n"
      ],
      "text/plain": [
       "  id         date                  weight_kg weight_pounds fat bmi  \n",
       "1 1503960366 5/2/2016 11:59:59 PM   52.6     115.9631      22  22.65\n",
       "2 1503960366 5/3/2016 11:59:59 PM   52.6     115.9631      NA  22.65\n",
       "3 1927972279 4/13/2016 1:08:52 AM  133.5     294.3171      NA  47.54\n",
       "4 2873212765 4/21/2016 11:59:59 PM  56.7     125.0021      NA  21.45\n",
       "5 2873212765 5/12/2016 11:59:59 PM  57.3     126.3249      NA  21.69\n",
       "6 4319703577 4/17/2016 11:59:59 PM  72.4     159.6147      25  27.45\n",
       "  is_manual_report log_id      \n",
       "1  TRUE            1.462234e+12\n",
       "2  TRUE            1.462320e+12\n",
       "3 FALSE            1.460510e+12\n",
       "4  TRUE            1.461283e+12\n",
       "5  TRUE            1.463098e+12\n",
       "6  TRUE            1.460938e+12"
      ]
     },
     "metadata": {},
     "output_type": "display_data"
    },
    {
     "data": {
      "text/html": [
       "<table class=\"dataframe\">\n",
       "<caption>A tibble: 6 × 5</caption>\n",
       "<thead>\n",
       "\t<tr><th scope=col>id</th><th scope=col>date</th><th scope=col>total_sleep_records</th><th scope=col>total_minutes_asleep</th><th scope=col>total_time_in_bed</th></tr>\n",
       "\t<tr><th scope=col>&lt;dbl&gt;</th><th scope=col>&lt;chr&gt;</th><th scope=col>&lt;dbl&gt;</th><th scope=col>&lt;dbl&gt;</th><th scope=col>&lt;dbl&gt;</th></tr>\n",
       "</thead>\n",
       "<tbody>\n",
       "\t<tr><td>1503960366</td><td>4/12/2016 12:00:00 AM</td><td>1</td><td>327</td><td>346</td></tr>\n",
       "\t<tr><td>1503960366</td><td>4/13/2016 12:00:00 AM</td><td>2</td><td>384</td><td>407</td></tr>\n",
       "\t<tr><td>1503960366</td><td>4/15/2016 12:00:00 AM</td><td>1</td><td>412</td><td>442</td></tr>\n",
       "\t<tr><td>1503960366</td><td>4/16/2016 12:00:00 AM</td><td>2</td><td>340</td><td>367</td></tr>\n",
       "\t<tr><td>1503960366</td><td>4/17/2016 12:00:00 AM</td><td>1</td><td>700</td><td>712</td></tr>\n",
       "\t<tr><td>1503960366</td><td>4/19/2016 12:00:00 AM</td><td>1</td><td>304</td><td>320</td></tr>\n",
       "</tbody>\n",
       "</table>\n"
      ],
      "text/latex": [
       "A tibble: 6 × 5\n",
       "\\begin{tabular}{lllll}\n",
       " id & date & total\\_sleep\\_records & total\\_minutes\\_asleep & total\\_time\\_in\\_bed\\\\\n",
       " <dbl> & <chr> & <dbl> & <dbl> & <dbl>\\\\\n",
       "\\hline\n",
       "\t 1503960366 & 4/12/2016 12:00:00 AM & 1 & 327 & 346\\\\\n",
       "\t 1503960366 & 4/13/2016 12:00:00 AM & 2 & 384 & 407\\\\\n",
       "\t 1503960366 & 4/15/2016 12:00:00 AM & 1 & 412 & 442\\\\\n",
       "\t 1503960366 & 4/16/2016 12:00:00 AM & 2 & 340 & 367\\\\\n",
       "\t 1503960366 & 4/17/2016 12:00:00 AM & 1 & 700 & 712\\\\\n",
       "\t 1503960366 & 4/19/2016 12:00:00 AM & 1 & 304 & 320\\\\\n",
       "\\end{tabular}\n"
      ],
      "text/markdown": [
       "\n",
       "A tibble: 6 × 5\n",
       "\n",
       "| id &lt;dbl&gt; | date &lt;chr&gt; | total_sleep_records &lt;dbl&gt; | total_minutes_asleep &lt;dbl&gt; | total_time_in_bed &lt;dbl&gt; |\n",
       "|---|---|---|---|---|\n",
       "| 1503960366 | 4/12/2016 12:00:00 AM | 1 | 327 | 346 |\n",
       "| 1503960366 | 4/13/2016 12:00:00 AM | 2 | 384 | 407 |\n",
       "| 1503960366 | 4/15/2016 12:00:00 AM | 1 | 412 | 442 |\n",
       "| 1503960366 | 4/16/2016 12:00:00 AM | 2 | 340 | 367 |\n",
       "| 1503960366 | 4/17/2016 12:00:00 AM | 1 | 700 | 712 |\n",
       "| 1503960366 | 4/19/2016 12:00:00 AM | 1 | 304 | 320 |\n",
       "\n"
      ],
      "text/plain": [
       "  id         date                  total_sleep_records total_minutes_asleep\n",
       "1 1503960366 4/12/2016 12:00:00 AM 1                   327                 \n",
       "2 1503960366 4/13/2016 12:00:00 AM 2                   384                 \n",
       "3 1503960366 4/15/2016 12:00:00 AM 1                   412                 \n",
       "4 1503960366 4/16/2016 12:00:00 AM 2                   340                 \n",
       "5 1503960366 4/17/2016 12:00:00 AM 1                   700                 \n",
       "6 1503960366 4/19/2016 12:00:00 AM 1                   304                 \n",
       "  total_time_in_bed\n",
       "1 346              \n",
       "2 407              \n",
       "3 442              \n",
       "4 367              \n",
       "5 712              \n",
       "6 320              "
      ]
     },
     "metadata": {},
     "output_type": "display_data"
    }
   ],
   "source": [
    "head(daily_activity_c)\n",
    "head(weight_log_c)\n",
    "head(sleep_day_c)"
   ]
  },
  {
   "cell_type": "markdown",
   "id": "bbf4f3f9",
   "metadata": {
    "papermill": {
     "duration": 0.011639,
     "end_time": "2022-06-30T20:09:21.456124",
     "exception": false,
     "start_time": "2022-06-30T20:09:21.444485",
     "status": "completed"
    },
    "tags": []
   },
   "source": [
    "To view the structure of our data to ensure the column data is well formatted."
   ]
  },
  {
   "cell_type": "code",
   "execution_count": 6,
   "id": "9f2f281f",
   "metadata": {
    "execution": {
     "iopub.execute_input": "2022-06-30T20:09:21.484336Z",
     "iopub.status.busy": "2022-06-30T20:09:21.482619Z",
     "iopub.status.idle": "2022-06-30T20:09:21.552515Z",
     "shell.execute_reply": "2022-06-30T20:09:21.550608Z"
    },
    "papermill": {
     "duration": 0.088057,
     "end_time": "2022-06-30T20:09:21.556281",
     "exception": false,
     "start_time": "2022-06-30T20:09:21.468224",
     "status": "completed"
    },
    "tags": []
   },
   "outputs": [
    {
     "name": "stdout",
     "output_type": "stream",
     "text": [
      "spec_tbl_df [940 × 15] (S3: spec_tbl_df/tbl_df/tbl/data.frame)\n",
      " $ id                        : num [1:940] 1.5e+09 1.5e+09 1.5e+09 1.5e+09 1.5e+09 ...\n",
      " $ date                      : chr [1:940] \"4/12/2016\" \"4/13/2016\" \"4/14/2016\" \"4/15/2016\" ...\n",
      " $ total_steps               : num [1:940] 13162 10735 10460 9762 12669 ...\n",
      " $ total_distance            : num [1:940] 8.5 6.97 6.74 6.28 8.16 ...\n",
      " $ tracker_distance          : num [1:940] 8.5 6.97 6.74 6.28 8.16 ...\n",
      " $ logged_activities_distance: num [1:940] 0 0 0 0 0 0 0 0 0 0 ...\n",
      " $ very_active_distance      : num [1:940] 1.88 1.57 2.44 2.14 2.71 ...\n",
      " $ moderately_active_distance: num [1:940] 0.55 0.69 0.4 1.26 0.41 ...\n",
      " $ light_active_distance     : num [1:940] 6.06 4.71 3.91 2.83 5.04 ...\n",
      " $ sedentary_active_distance : num [1:940] 0 0 0 0 0 0 0 0 0 0 ...\n",
      " $ very_active_minutes       : num [1:940] 25 21 30 29 36 38 42 50 28 19 ...\n",
      " $ fairly_active_minutes     : num [1:940] 13 19 11 34 10 20 16 31 12 8 ...\n",
      " $ lightly_active_minutes    : num [1:940] 328 217 181 209 221 164 233 264 205 211 ...\n",
      " $ sedentary_minutes         : num [1:940] 728 776 1218 726 773 ...\n",
      " $ total_calories            : num [1:940] 1985 1797 1776 1745 1863 ...\n",
      " - attr(*, \"spec\")=\n",
      "  .. cols(\n",
      "  ..   Id = \u001b[32mcol_double()\u001b[39m,\n",
      "  ..   ActivityDate = \u001b[31mcol_character()\u001b[39m,\n",
      "  ..   TotalSteps = \u001b[32mcol_double()\u001b[39m,\n",
      "  ..   TotalDistance = \u001b[32mcol_double()\u001b[39m,\n",
      "  ..   TrackerDistance = \u001b[32mcol_double()\u001b[39m,\n",
      "  ..   LoggedActivitiesDistance = \u001b[32mcol_double()\u001b[39m,\n",
      "  ..   VeryActiveDistance = \u001b[32mcol_double()\u001b[39m,\n",
      "  ..   ModeratelyActiveDistance = \u001b[32mcol_double()\u001b[39m,\n",
      "  ..   LightActiveDistance = \u001b[32mcol_double()\u001b[39m,\n",
      "  ..   SedentaryActiveDistance = \u001b[32mcol_double()\u001b[39m,\n",
      "  ..   VeryActiveMinutes = \u001b[32mcol_double()\u001b[39m,\n",
      "  ..   FairlyActiveMinutes = \u001b[32mcol_double()\u001b[39m,\n",
      "  ..   LightlyActiveMinutes = \u001b[32mcol_double()\u001b[39m,\n",
      "  ..   SedentaryMinutes = \u001b[32mcol_double()\u001b[39m,\n",
      "  ..   Calories = \u001b[32mcol_double()\u001b[39m\n",
      "  .. )\n",
      " - attr(*, \"problems\")=<externalptr> \n",
      "spec_tbl_df [413 × 5] (S3: spec_tbl_df/tbl_df/tbl/data.frame)\n",
      " $ id                  : num [1:413] 1.5e+09 1.5e+09 1.5e+09 1.5e+09 1.5e+09 ...\n",
      " $ date                : chr [1:413] \"4/12/2016 12:00:00 AM\" \"4/13/2016 12:00:00 AM\" \"4/15/2016 12:00:00 AM\" \"4/16/2016 12:00:00 AM\" ...\n",
      " $ total_sleep_records : num [1:413] 1 2 1 2 1 1 1 1 1 1 ...\n",
      " $ total_minutes_asleep: num [1:413] 327 384 412 340 700 304 360 325 361 430 ...\n",
      " $ total_time_in_bed   : num [1:413] 346 407 442 367 712 320 377 364 384 449 ...\n",
      " - attr(*, \"spec\")=\n",
      "  .. cols(\n",
      "  ..   Id = \u001b[32mcol_double()\u001b[39m,\n",
      "  ..   SleepDay = \u001b[31mcol_character()\u001b[39m,\n",
      "  ..   TotalSleepRecords = \u001b[32mcol_double()\u001b[39m,\n",
      "  ..   TotalMinutesAsleep = \u001b[32mcol_double()\u001b[39m,\n",
      "  ..   TotalTimeInBed = \u001b[32mcol_double()\u001b[39m\n",
      "  .. )\n",
      " - attr(*, \"problems\")=<externalptr> \n",
      "spec_tbl_df [67 × 8] (S3: spec_tbl_df/tbl_df/tbl/data.frame)\n",
      " $ id              : num [1:67] 1.50e+09 1.50e+09 1.93e+09 2.87e+09 2.87e+09 ...\n",
      " $ date            : chr [1:67] \"5/2/2016 11:59:59 PM\" \"5/3/2016 11:59:59 PM\" \"4/13/2016 1:08:52 AM\" \"4/21/2016 11:59:59 PM\" ...\n",
      " $ weight_kg       : num [1:67] 52.6 52.6 133.5 56.7 57.3 ...\n",
      " $ weight_pounds   : num [1:67] 116 116 294 125 126 ...\n",
      " $ fat             : num [1:67] 22 NA NA NA NA 25 NA NA NA NA ...\n",
      " $ bmi             : num [1:67] 22.6 22.6 47.5 21.5 21.7 ...\n",
      " $ is_manual_report: logi [1:67] TRUE TRUE FALSE TRUE TRUE TRUE ...\n",
      " $ log_id          : num [1:67] 1.46e+12 1.46e+12 1.46e+12 1.46e+12 1.46e+12 ...\n",
      " - attr(*, \"spec\")=\n",
      "  .. cols(\n",
      "  ..   Id = \u001b[32mcol_double()\u001b[39m,\n",
      "  ..   Date = \u001b[31mcol_character()\u001b[39m,\n",
      "  ..   WeightKg = \u001b[32mcol_double()\u001b[39m,\n",
      "  ..   WeightPounds = \u001b[32mcol_double()\u001b[39m,\n",
      "  ..   Fat = \u001b[32mcol_double()\u001b[39m,\n",
      "  ..   BMI = \u001b[32mcol_double()\u001b[39m,\n",
      "  ..   IsManualReport = \u001b[33mcol_logical()\u001b[39m,\n",
      "  ..   LogId = \u001b[32mcol_double()\u001b[39m\n",
      "  .. )\n",
      " - attr(*, \"problems\")=<externalptr> \n"
     ]
    }
   ],
   "source": [
    "str(daily_activity_c)\n",
    "str(sleep_day_c)\n",
    "str(weight_log_c)"
   ]
  },
  {
   "cell_type": "markdown",
   "id": "23a6f83b",
   "metadata": {
    "papermill": {
     "duration": 0.012654,
     "end_time": "2022-06-30T20:09:21.583068",
     "exception": false,
     "start_time": "2022-06-30T20:09:21.570414",
     "status": "completed"
    },
    "tags": []
   },
   "source": [
    "We can see the date columns are not in the right format. They are formatted as character columns instead of date. We can resolve this by using the as.Date() function to convert appropriately."
   ]
  },
  {
   "cell_type": "code",
   "execution_count": 7,
   "id": "81d6cb4d",
   "metadata": {
    "execution": {
     "iopub.execute_input": "2022-06-30T20:09:21.625214Z",
     "iopub.status.busy": "2022-06-30T20:09:21.609335Z",
     "iopub.status.idle": "2022-06-30T20:09:21.647048Z",
     "shell.execute_reply": "2022-06-30T20:09:21.645031Z"
    },
    "papermill": {
     "duration": 0.05433,
     "end_time": "2022-06-30T20:09:21.649706",
     "exception": false,
     "start_time": "2022-06-30T20:09:21.595376",
     "status": "completed"
    },
    "tags": []
   },
   "outputs": [],
   "source": [
    "#coverting date columns to date format\n",
    "daily_activity_c$date<-as.Date(daily_activity_c$date, format=\"%m/%d/%Y\")\n",
    "\n",
    "sleep_day_c$date<-as.Date(sleep_day_c$date, format=\"%m/%d/%Y\")\n",
    "\n",
    "weight_log_c$date<-as.Date(weight_log_c$date, format=\"%m/%d/%Y\")"
   ]
  },
  {
   "cell_type": "markdown",
   "id": "e58b43a7",
   "metadata": {
    "papermill": {
     "duration": 0.012774,
     "end_time": "2022-06-30T20:09:21.674860",
     "exception": false,
     "start_time": "2022-06-30T20:09:21.662086",
     "status": "completed"
    },
    "tags": []
   },
   "source": [
    "To view the changes made"
   ]
  },
  {
   "cell_type": "code",
   "execution_count": 8,
   "id": "f7f42ce4",
   "metadata": {
    "execution": {
     "iopub.execute_input": "2022-06-30T20:09:21.703677Z",
     "iopub.status.busy": "2022-06-30T20:09:21.701905Z",
     "iopub.status.idle": "2022-06-30T20:09:21.768666Z",
     "shell.execute_reply": "2022-06-30T20:09:21.767020Z"
    },
    "papermill": {
     "duration": 0.083119,
     "end_time": "2022-06-30T20:09:21.770989",
     "exception": false,
     "start_time": "2022-06-30T20:09:21.687870",
     "status": "completed"
    },
    "tags": []
   },
   "outputs": [
    {
     "name": "stdout",
     "output_type": "stream",
     "text": [
      "spec_tbl_df [940 × 15] (S3: spec_tbl_df/tbl_df/tbl/data.frame)\n",
      " $ id                        : num [1:940] 1.5e+09 1.5e+09 1.5e+09 1.5e+09 1.5e+09 ...\n",
      " $ date                      : Date[1:940], format: \"2016-04-12\" \"2016-04-13\" ...\n",
      " $ total_steps               : num [1:940] 13162 10735 10460 9762 12669 ...\n",
      " $ total_distance            : num [1:940] 8.5 6.97 6.74 6.28 8.16 ...\n",
      " $ tracker_distance          : num [1:940] 8.5 6.97 6.74 6.28 8.16 ...\n",
      " $ logged_activities_distance: num [1:940] 0 0 0 0 0 0 0 0 0 0 ...\n",
      " $ very_active_distance      : num [1:940] 1.88 1.57 2.44 2.14 2.71 ...\n",
      " $ moderately_active_distance: num [1:940] 0.55 0.69 0.4 1.26 0.41 ...\n",
      " $ light_active_distance     : num [1:940] 6.06 4.71 3.91 2.83 5.04 ...\n",
      " $ sedentary_active_distance : num [1:940] 0 0 0 0 0 0 0 0 0 0 ...\n",
      " $ very_active_minutes       : num [1:940] 25 21 30 29 36 38 42 50 28 19 ...\n",
      " $ fairly_active_minutes     : num [1:940] 13 19 11 34 10 20 16 31 12 8 ...\n",
      " $ lightly_active_minutes    : num [1:940] 328 217 181 209 221 164 233 264 205 211 ...\n",
      " $ sedentary_minutes         : num [1:940] 728 776 1218 726 773 ...\n",
      " $ total_calories            : num [1:940] 1985 1797 1776 1745 1863 ...\n",
      " - attr(*, \"spec\")=\n",
      "  .. cols(\n",
      "  ..   Id = \u001b[32mcol_double()\u001b[39m,\n",
      "  ..   ActivityDate = \u001b[31mcol_character()\u001b[39m,\n",
      "  ..   TotalSteps = \u001b[32mcol_double()\u001b[39m,\n",
      "  ..   TotalDistance = \u001b[32mcol_double()\u001b[39m,\n",
      "  ..   TrackerDistance = \u001b[32mcol_double()\u001b[39m,\n",
      "  ..   LoggedActivitiesDistance = \u001b[32mcol_double()\u001b[39m,\n",
      "  ..   VeryActiveDistance = \u001b[32mcol_double()\u001b[39m,\n",
      "  ..   ModeratelyActiveDistance = \u001b[32mcol_double()\u001b[39m,\n",
      "  ..   LightActiveDistance = \u001b[32mcol_double()\u001b[39m,\n",
      "  ..   SedentaryActiveDistance = \u001b[32mcol_double()\u001b[39m,\n",
      "  ..   VeryActiveMinutes = \u001b[32mcol_double()\u001b[39m,\n",
      "  ..   FairlyActiveMinutes = \u001b[32mcol_double()\u001b[39m,\n",
      "  ..   LightlyActiveMinutes = \u001b[32mcol_double()\u001b[39m,\n",
      "  ..   SedentaryMinutes = \u001b[32mcol_double()\u001b[39m,\n",
      "  ..   Calories = \u001b[32mcol_double()\u001b[39m\n",
      "  .. )\n",
      " - attr(*, \"problems\")=<externalptr> \n",
      "spec_tbl_df [413 × 5] (S3: spec_tbl_df/tbl_df/tbl/data.frame)\n",
      " $ id                  : num [1:413] 1.5e+09 1.5e+09 1.5e+09 1.5e+09 1.5e+09 ...\n",
      " $ date                : Date[1:413], format: \"2016-04-12\" \"2016-04-13\" ...\n",
      " $ total_sleep_records : num [1:413] 1 2 1 2 1 1 1 1 1 1 ...\n",
      " $ total_minutes_asleep: num [1:413] 327 384 412 340 700 304 360 325 361 430 ...\n",
      " $ total_time_in_bed   : num [1:413] 346 407 442 367 712 320 377 364 384 449 ...\n",
      " - attr(*, \"spec\")=\n",
      "  .. cols(\n",
      "  ..   Id = \u001b[32mcol_double()\u001b[39m,\n",
      "  ..   SleepDay = \u001b[31mcol_character()\u001b[39m,\n",
      "  ..   TotalSleepRecords = \u001b[32mcol_double()\u001b[39m,\n",
      "  ..   TotalMinutesAsleep = \u001b[32mcol_double()\u001b[39m,\n",
      "  ..   TotalTimeInBed = \u001b[32mcol_double()\u001b[39m\n",
      "  .. )\n",
      " - attr(*, \"problems\")=<externalptr> \n",
      "spec_tbl_df [67 × 8] (S3: spec_tbl_df/tbl_df/tbl/data.frame)\n",
      " $ id              : num [1:67] 1.50e+09 1.50e+09 1.93e+09 2.87e+09 2.87e+09 ...\n",
      " $ date            : Date[1:67], format: \"2016-05-02\" \"2016-05-03\" ...\n",
      " $ weight_kg       : num [1:67] 52.6 52.6 133.5 56.7 57.3 ...\n",
      " $ weight_pounds   : num [1:67] 116 116 294 125 126 ...\n",
      " $ fat             : num [1:67] 22 NA NA NA NA 25 NA NA NA NA ...\n",
      " $ bmi             : num [1:67] 22.6 22.6 47.5 21.5 21.7 ...\n",
      " $ is_manual_report: logi [1:67] TRUE TRUE FALSE TRUE TRUE TRUE ...\n",
      " $ log_id          : num [1:67] 1.46e+12 1.46e+12 1.46e+12 1.46e+12 1.46e+12 ...\n",
      " - attr(*, \"spec\")=\n",
      "  .. cols(\n",
      "  ..   Id = \u001b[32mcol_double()\u001b[39m,\n",
      "  ..   Date = \u001b[31mcol_character()\u001b[39m,\n",
      "  ..   WeightKg = \u001b[32mcol_double()\u001b[39m,\n",
      "  ..   WeightPounds = \u001b[32mcol_double()\u001b[39m,\n",
      "  ..   Fat = \u001b[32mcol_double()\u001b[39m,\n",
      "  ..   BMI = \u001b[32mcol_double()\u001b[39m,\n",
      "  ..   IsManualReport = \u001b[33mcol_logical()\u001b[39m,\n",
      "  ..   LogId = \u001b[32mcol_double()\u001b[39m\n",
      "  .. )\n",
      " - attr(*, \"problems\")=<externalptr> \n"
     ]
    }
   ],
   "source": [
    "str(daily_activity_c)\n",
    "str(sleep_day_c)\n",
    "str(weight_log_c)"
   ]
  },
  {
   "cell_type": "markdown",
   "id": "8ab56a5c",
   "metadata": {
    "papermill": {
     "duration": 0.021889,
     "end_time": "2022-06-30T20:09:21.805636",
     "exception": false,
     "start_time": "2022-06-30T20:09:21.783747",
     "status": "completed"
    },
    "tags": []
   },
   "source": [
    "The columns are now formatted as Dates. Note that even our datetime column was converted to date format because for this analysis, the date is of interest. Let us view the data again."
   ]
  },
  {
   "cell_type": "code",
   "execution_count": 9,
   "id": "2633967f",
   "metadata": {
    "execution": {
     "iopub.execute_input": "2022-06-30T20:09:21.837181Z",
     "iopub.status.busy": "2022-06-30T20:09:21.835421Z",
     "iopub.status.idle": "2022-06-30T20:09:21.890877Z",
     "shell.execute_reply": "2022-06-30T20:09:21.888785Z"
    },
    "papermill": {
     "duration": 0.074741,
     "end_time": "2022-06-30T20:09:21.893608",
     "exception": false,
     "start_time": "2022-06-30T20:09:21.818867",
     "status": "completed"
    },
    "tags": []
   },
   "outputs": [
    {
     "data": {
      "text/html": [
       "<table class=\"dataframe\">\n",
       "<caption>A tibble: 6 × 15</caption>\n",
       "<thead>\n",
       "\t<tr><th scope=col>id</th><th scope=col>date</th><th scope=col>total_steps</th><th scope=col>total_distance</th><th scope=col>tracker_distance</th><th scope=col>logged_activities_distance</th><th scope=col>very_active_distance</th><th scope=col>moderately_active_distance</th><th scope=col>light_active_distance</th><th scope=col>sedentary_active_distance</th><th scope=col>very_active_minutes</th><th scope=col>fairly_active_minutes</th><th scope=col>lightly_active_minutes</th><th scope=col>sedentary_minutes</th><th scope=col>total_calories</th></tr>\n",
       "\t<tr><th scope=col>&lt;dbl&gt;</th><th scope=col>&lt;date&gt;</th><th scope=col>&lt;dbl&gt;</th><th scope=col>&lt;dbl&gt;</th><th scope=col>&lt;dbl&gt;</th><th scope=col>&lt;dbl&gt;</th><th scope=col>&lt;dbl&gt;</th><th scope=col>&lt;dbl&gt;</th><th scope=col>&lt;dbl&gt;</th><th scope=col>&lt;dbl&gt;</th><th scope=col>&lt;dbl&gt;</th><th scope=col>&lt;dbl&gt;</th><th scope=col>&lt;dbl&gt;</th><th scope=col>&lt;dbl&gt;</th><th scope=col>&lt;dbl&gt;</th></tr>\n",
       "</thead>\n",
       "<tbody>\n",
       "\t<tr><td>1503960366</td><td>2016-04-12</td><td>13162</td><td>8.50</td><td>8.50</td><td>0</td><td>1.88</td><td>0.55</td><td>6.06</td><td>0</td><td>25</td><td>13</td><td>328</td><td> 728</td><td>1985</td></tr>\n",
       "\t<tr><td>1503960366</td><td>2016-04-13</td><td>10735</td><td>6.97</td><td>6.97</td><td>0</td><td>1.57</td><td>0.69</td><td>4.71</td><td>0</td><td>21</td><td>19</td><td>217</td><td> 776</td><td>1797</td></tr>\n",
       "\t<tr><td>1503960366</td><td>2016-04-14</td><td>10460</td><td>6.74</td><td>6.74</td><td>0</td><td>2.44</td><td>0.40</td><td>3.91</td><td>0</td><td>30</td><td>11</td><td>181</td><td>1218</td><td>1776</td></tr>\n",
       "\t<tr><td>1503960366</td><td>2016-04-15</td><td> 9762</td><td>6.28</td><td>6.28</td><td>0</td><td>2.14</td><td>1.26</td><td>2.83</td><td>0</td><td>29</td><td>34</td><td>209</td><td> 726</td><td>1745</td></tr>\n",
       "\t<tr><td>1503960366</td><td>2016-04-16</td><td>12669</td><td>8.16</td><td>8.16</td><td>0</td><td>2.71</td><td>0.41</td><td>5.04</td><td>0</td><td>36</td><td>10</td><td>221</td><td> 773</td><td>1863</td></tr>\n",
       "\t<tr><td>1503960366</td><td>2016-04-17</td><td> 9705</td><td>6.48</td><td>6.48</td><td>0</td><td>3.19</td><td>0.78</td><td>2.51</td><td>0</td><td>38</td><td>20</td><td>164</td><td> 539</td><td>1728</td></tr>\n",
       "</tbody>\n",
       "</table>\n"
      ],
      "text/latex": [
       "A tibble: 6 × 15\n",
       "\\begin{tabular}{lllllllllllllll}\n",
       " id & date & total\\_steps & total\\_distance & tracker\\_distance & logged\\_activities\\_distance & very\\_active\\_distance & moderately\\_active\\_distance & light\\_active\\_distance & sedentary\\_active\\_distance & very\\_active\\_minutes & fairly\\_active\\_minutes & lightly\\_active\\_minutes & sedentary\\_minutes & total\\_calories\\\\\n",
       " <dbl> & <date> & <dbl> & <dbl> & <dbl> & <dbl> & <dbl> & <dbl> & <dbl> & <dbl> & <dbl> & <dbl> & <dbl> & <dbl> & <dbl>\\\\\n",
       "\\hline\n",
       "\t 1503960366 & 2016-04-12 & 13162 & 8.50 & 8.50 & 0 & 1.88 & 0.55 & 6.06 & 0 & 25 & 13 & 328 &  728 & 1985\\\\\n",
       "\t 1503960366 & 2016-04-13 & 10735 & 6.97 & 6.97 & 0 & 1.57 & 0.69 & 4.71 & 0 & 21 & 19 & 217 &  776 & 1797\\\\\n",
       "\t 1503960366 & 2016-04-14 & 10460 & 6.74 & 6.74 & 0 & 2.44 & 0.40 & 3.91 & 0 & 30 & 11 & 181 & 1218 & 1776\\\\\n",
       "\t 1503960366 & 2016-04-15 &  9762 & 6.28 & 6.28 & 0 & 2.14 & 1.26 & 2.83 & 0 & 29 & 34 & 209 &  726 & 1745\\\\\n",
       "\t 1503960366 & 2016-04-16 & 12669 & 8.16 & 8.16 & 0 & 2.71 & 0.41 & 5.04 & 0 & 36 & 10 & 221 &  773 & 1863\\\\\n",
       "\t 1503960366 & 2016-04-17 &  9705 & 6.48 & 6.48 & 0 & 3.19 & 0.78 & 2.51 & 0 & 38 & 20 & 164 &  539 & 1728\\\\\n",
       "\\end{tabular}\n"
      ],
      "text/markdown": [
       "\n",
       "A tibble: 6 × 15\n",
       "\n",
       "| id &lt;dbl&gt; | date &lt;date&gt; | total_steps &lt;dbl&gt; | total_distance &lt;dbl&gt; | tracker_distance &lt;dbl&gt; | logged_activities_distance &lt;dbl&gt; | very_active_distance &lt;dbl&gt; | moderately_active_distance &lt;dbl&gt; | light_active_distance &lt;dbl&gt; | sedentary_active_distance &lt;dbl&gt; | very_active_minutes &lt;dbl&gt; | fairly_active_minutes &lt;dbl&gt; | lightly_active_minutes &lt;dbl&gt; | sedentary_minutes &lt;dbl&gt; | total_calories &lt;dbl&gt; |\n",
       "|---|---|---|---|---|---|---|---|---|---|---|---|---|---|---|\n",
       "| 1503960366 | 2016-04-12 | 13162 | 8.50 | 8.50 | 0 | 1.88 | 0.55 | 6.06 | 0 | 25 | 13 | 328 |  728 | 1985 |\n",
       "| 1503960366 | 2016-04-13 | 10735 | 6.97 | 6.97 | 0 | 1.57 | 0.69 | 4.71 | 0 | 21 | 19 | 217 |  776 | 1797 |\n",
       "| 1503960366 | 2016-04-14 | 10460 | 6.74 | 6.74 | 0 | 2.44 | 0.40 | 3.91 | 0 | 30 | 11 | 181 | 1218 | 1776 |\n",
       "| 1503960366 | 2016-04-15 |  9762 | 6.28 | 6.28 | 0 | 2.14 | 1.26 | 2.83 | 0 | 29 | 34 | 209 |  726 | 1745 |\n",
       "| 1503960366 | 2016-04-16 | 12669 | 8.16 | 8.16 | 0 | 2.71 | 0.41 | 5.04 | 0 | 36 | 10 | 221 |  773 | 1863 |\n",
       "| 1503960366 | 2016-04-17 |  9705 | 6.48 | 6.48 | 0 | 3.19 | 0.78 | 2.51 | 0 | 38 | 20 | 164 |  539 | 1728 |\n",
       "\n"
      ],
      "text/plain": [
       "  id         date       total_steps total_distance tracker_distance\n",
       "1 1503960366 2016-04-12 13162       8.50           8.50            \n",
       "2 1503960366 2016-04-13 10735       6.97           6.97            \n",
       "3 1503960366 2016-04-14 10460       6.74           6.74            \n",
       "4 1503960366 2016-04-15  9762       6.28           6.28            \n",
       "5 1503960366 2016-04-16 12669       8.16           8.16            \n",
       "6 1503960366 2016-04-17  9705       6.48           6.48            \n",
       "  logged_activities_distance very_active_distance moderately_active_distance\n",
       "1 0                          1.88                 0.55                      \n",
       "2 0                          1.57                 0.69                      \n",
       "3 0                          2.44                 0.40                      \n",
       "4 0                          2.14                 1.26                      \n",
       "5 0                          2.71                 0.41                      \n",
       "6 0                          3.19                 0.78                      \n",
       "  light_active_distance sedentary_active_distance very_active_minutes\n",
       "1 6.06                  0                         25                 \n",
       "2 4.71                  0                         21                 \n",
       "3 3.91                  0                         30                 \n",
       "4 2.83                  0                         29                 \n",
       "5 5.04                  0                         36                 \n",
       "6 2.51                  0                         38                 \n",
       "  fairly_active_minutes lightly_active_minutes sedentary_minutes total_calories\n",
       "1 13                    328                     728              1985          \n",
       "2 19                    217                     776              1797          \n",
       "3 11                    181                    1218              1776          \n",
       "4 34                    209                     726              1745          \n",
       "5 10                    221                     773              1863          \n",
       "6 20                    164                     539              1728          "
      ]
     },
     "metadata": {},
     "output_type": "display_data"
    },
    {
     "data": {
      "text/html": [
       "<table class=\"dataframe\">\n",
       "<caption>A tibble: 6 × 5</caption>\n",
       "<thead>\n",
       "\t<tr><th scope=col>id</th><th scope=col>date</th><th scope=col>total_sleep_records</th><th scope=col>total_minutes_asleep</th><th scope=col>total_time_in_bed</th></tr>\n",
       "\t<tr><th scope=col>&lt;dbl&gt;</th><th scope=col>&lt;date&gt;</th><th scope=col>&lt;dbl&gt;</th><th scope=col>&lt;dbl&gt;</th><th scope=col>&lt;dbl&gt;</th></tr>\n",
       "</thead>\n",
       "<tbody>\n",
       "\t<tr><td>1503960366</td><td>2016-04-12</td><td>1</td><td>327</td><td>346</td></tr>\n",
       "\t<tr><td>1503960366</td><td>2016-04-13</td><td>2</td><td>384</td><td>407</td></tr>\n",
       "\t<tr><td>1503960366</td><td>2016-04-15</td><td>1</td><td>412</td><td>442</td></tr>\n",
       "\t<tr><td>1503960366</td><td>2016-04-16</td><td>2</td><td>340</td><td>367</td></tr>\n",
       "\t<tr><td>1503960366</td><td>2016-04-17</td><td>1</td><td>700</td><td>712</td></tr>\n",
       "\t<tr><td>1503960366</td><td>2016-04-19</td><td>1</td><td>304</td><td>320</td></tr>\n",
       "</tbody>\n",
       "</table>\n"
      ],
      "text/latex": [
       "A tibble: 6 × 5\n",
       "\\begin{tabular}{lllll}\n",
       " id & date & total\\_sleep\\_records & total\\_minutes\\_asleep & total\\_time\\_in\\_bed\\\\\n",
       " <dbl> & <date> & <dbl> & <dbl> & <dbl>\\\\\n",
       "\\hline\n",
       "\t 1503960366 & 2016-04-12 & 1 & 327 & 346\\\\\n",
       "\t 1503960366 & 2016-04-13 & 2 & 384 & 407\\\\\n",
       "\t 1503960366 & 2016-04-15 & 1 & 412 & 442\\\\\n",
       "\t 1503960366 & 2016-04-16 & 2 & 340 & 367\\\\\n",
       "\t 1503960366 & 2016-04-17 & 1 & 700 & 712\\\\\n",
       "\t 1503960366 & 2016-04-19 & 1 & 304 & 320\\\\\n",
       "\\end{tabular}\n"
      ],
      "text/markdown": [
       "\n",
       "A tibble: 6 × 5\n",
       "\n",
       "| id &lt;dbl&gt; | date &lt;date&gt; | total_sleep_records &lt;dbl&gt; | total_minutes_asleep &lt;dbl&gt; | total_time_in_bed &lt;dbl&gt; |\n",
       "|---|---|---|---|---|\n",
       "| 1503960366 | 2016-04-12 | 1 | 327 | 346 |\n",
       "| 1503960366 | 2016-04-13 | 2 | 384 | 407 |\n",
       "| 1503960366 | 2016-04-15 | 1 | 412 | 442 |\n",
       "| 1503960366 | 2016-04-16 | 2 | 340 | 367 |\n",
       "| 1503960366 | 2016-04-17 | 1 | 700 | 712 |\n",
       "| 1503960366 | 2016-04-19 | 1 | 304 | 320 |\n",
       "\n"
      ],
      "text/plain": [
       "  id         date       total_sleep_records total_minutes_asleep\n",
       "1 1503960366 2016-04-12 1                   327                 \n",
       "2 1503960366 2016-04-13 2                   384                 \n",
       "3 1503960366 2016-04-15 1                   412                 \n",
       "4 1503960366 2016-04-16 2                   340                 \n",
       "5 1503960366 2016-04-17 1                   700                 \n",
       "6 1503960366 2016-04-19 1                   304                 \n",
       "  total_time_in_bed\n",
       "1 346              \n",
       "2 407              \n",
       "3 442              \n",
       "4 367              \n",
       "5 712              \n",
       "6 320              "
      ]
     },
     "metadata": {},
     "output_type": "display_data"
    },
    {
     "data": {
      "text/html": [
       "<table class=\"dataframe\">\n",
       "<caption>A tibble: 6 × 8</caption>\n",
       "<thead>\n",
       "\t<tr><th scope=col>id</th><th scope=col>date</th><th scope=col>weight_kg</th><th scope=col>weight_pounds</th><th scope=col>fat</th><th scope=col>bmi</th><th scope=col>is_manual_report</th><th scope=col>log_id</th></tr>\n",
       "\t<tr><th scope=col>&lt;dbl&gt;</th><th scope=col>&lt;date&gt;</th><th scope=col>&lt;dbl&gt;</th><th scope=col>&lt;dbl&gt;</th><th scope=col>&lt;dbl&gt;</th><th scope=col>&lt;dbl&gt;</th><th scope=col>&lt;lgl&gt;</th><th scope=col>&lt;dbl&gt;</th></tr>\n",
       "</thead>\n",
       "<tbody>\n",
       "\t<tr><td>1503960366</td><td>2016-05-02</td><td> 52.6</td><td>115.9631</td><td>22</td><td>22.65</td><td> TRUE</td><td>1.462234e+12</td></tr>\n",
       "\t<tr><td>1503960366</td><td>2016-05-03</td><td> 52.6</td><td>115.9631</td><td>NA</td><td>22.65</td><td> TRUE</td><td>1.462320e+12</td></tr>\n",
       "\t<tr><td>1927972279</td><td>2016-04-13</td><td>133.5</td><td>294.3171</td><td>NA</td><td>47.54</td><td>FALSE</td><td>1.460510e+12</td></tr>\n",
       "\t<tr><td>2873212765</td><td>2016-04-21</td><td> 56.7</td><td>125.0021</td><td>NA</td><td>21.45</td><td> TRUE</td><td>1.461283e+12</td></tr>\n",
       "\t<tr><td>2873212765</td><td>2016-05-12</td><td> 57.3</td><td>126.3249</td><td>NA</td><td>21.69</td><td> TRUE</td><td>1.463098e+12</td></tr>\n",
       "\t<tr><td>4319703577</td><td>2016-04-17</td><td> 72.4</td><td>159.6147</td><td>25</td><td>27.45</td><td> TRUE</td><td>1.460938e+12</td></tr>\n",
       "</tbody>\n",
       "</table>\n"
      ],
      "text/latex": [
       "A tibble: 6 × 8\n",
       "\\begin{tabular}{llllllll}\n",
       " id & date & weight\\_kg & weight\\_pounds & fat & bmi & is\\_manual\\_report & log\\_id\\\\\n",
       " <dbl> & <date> & <dbl> & <dbl> & <dbl> & <dbl> & <lgl> & <dbl>\\\\\n",
       "\\hline\n",
       "\t 1503960366 & 2016-05-02 &  52.6 & 115.9631 & 22 & 22.65 &  TRUE & 1.462234e+12\\\\\n",
       "\t 1503960366 & 2016-05-03 &  52.6 & 115.9631 & NA & 22.65 &  TRUE & 1.462320e+12\\\\\n",
       "\t 1927972279 & 2016-04-13 & 133.5 & 294.3171 & NA & 47.54 & FALSE & 1.460510e+12\\\\\n",
       "\t 2873212765 & 2016-04-21 &  56.7 & 125.0021 & NA & 21.45 &  TRUE & 1.461283e+12\\\\\n",
       "\t 2873212765 & 2016-05-12 &  57.3 & 126.3249 & NA & 21.69 &  TRUE & 1.463098e+12\\\\\n",
       "\t 4319703577 & 2016-04-17 &  72.4 & 159.6147 & 25 & 27.45 &  TRUE & 1.460938e+12\\\\\n",
       "\\end{tabular}\n"
      ],
      "text/markdown": [
       "\n",
       "A tibble: 6 × 8\n",
       "\n",
       "| id &lt;dbl&gt; | date &lt;date&gt; | weight_kg &lt;dbl&gt; | weight_pounds &lt;dbl&gt; | fat &lt;dbl&gt; | bmi &lt;dbl&gt; | is_manual_report &lt;lgl&gt; | log_id &lt;dbl&gt; |\n",
       "|---|---|---|---|---|---|---|---|\n",
       "| 1503960366 | 2016-05-02 |  52.6 | 115.9631 | 22 | 22.65 |  TRUE | 1.462234e+12 |\n",
       "| 1503960366 | 2016-05-03 |  52.6 | 115.9631 | NA | 22.65 |  TRUE | 1.462320e+12 |\n",
       "| 1927972279 | 2016-04-13 | 133.5 | 294.3171 | NA | 47.54 | FALSE | 1.460510e+12 |\n",
       "| 2873212765 | 2016-04-21 |  56.7 | 125.0021 | NA | 21.45 |  TRUE | 1.461283e+12 |\n",
       "| 2873212765 | 2016-05-12 |  57.3 | 126.3249 | NA | 21.69 |  TRUE | 1.463098e+12 |\n",
       "| 4319703577 | 2016-04-17 |  72.4 | 159.6147 | 25 | 27.45 |  TRUE | 1.460938e+12 |\n",
       "\n"
      ],
      "text/plain": [
       "  id         date       weight_kg weight_pounds fat bmi   is_manual_report\n",
       "1 1503960366 2016-05-02  52.6     115.9631      22  22.65  TRUE           \n",
       "2 1503960366 2016-05-03  52.6     115.9631      NA  22.65  TRUE           \n",
       "3 1927972279 2016-04-13 133.5     294.3171      NA  47.54 FALSE           \n",
       "4 2873212765 2016-04-21  56.7     125.0021      NA  21.45  TRUE           \n",
       "5 2873212765 2016-05-12  57.3     126.3249      NA  21.69  TRUE           \n",
       "6 4319703577 2016-04-17  72.4     159.6147      25  27.45  TRUE           \n",
       "  log_id      \n",
       "1 1.462234e+12\n",
       "2 1.462320e+12\n",
       "3 1.460510e+12\n",
       "4 1.461283e+12\n",
       "5 1.463098e+12\n",
       "6 1.460938e+12"
      ]
     },
     "metadata": {},
     "output_type": "display_data"
    }
   ],
   "source": [
    "head(daily_activity_c)\n",
    "head(sleep_day_c)\n",
    "head(weight_log_c)"
   ]
  },
  {
   "cell_type": "markdown",
   "id": "4428f732",
   "metadata": {
    "papermill": {
     "duration": 0.014316,
     "end_time": "2022-06-30T20:09:21.921691",
     "exception": false,
     "start_time": "2022-06-30T20:09:21.907375",
     "status": "completed"
    },
    "tags": []
   },
   "source": [
    "**ANALYZING DATA**\n",
    "\n",
    "To check the number of participants and the total number of days data was collected for"
   ]
  },
  {
   "cell_type": "code",
   "execution_count": 10,
   "id": "f5afd4b3",
   "metadata": {
    "execution": {
     "iopub.execute_input": "2022-06-30T20:09:21.953629Z",
     "iopub.status.busy": "2022-06-30T20:09:21.952070Z",
     "iopub.status.idle": "2022-06-30T20:09:21.998810Z",
     "shell.execute_reply": "2022-06-30T20:09:21.996371Z"
    },
    "papermill": {
     "duration": 0.066622,
     "end_time": "2022-06-30T20:09:22.002196",
     "exception": false,
     "start_time": "2022-06-30T20:09:21.935574",
     "status": "completed"
    },
    "tags": []
   },
   "outputs": [
    {
     "data": {
      "text/html": [
       "<table class=\"dataframe\">\n",
       "<caption>A tibble: 1 × 2</caption>\n",
       "<thead>\n",
       "\t<tr><th scope=col>no_of_participants</th><th scope=col>total_no_days</th></tr>\n",
       "\t<tr><th scope=col>&lt;int&gt;</th><th scope=col>&lt;int&gt;</th></tr>\n",
       "</thead>\n",
       "<tbody>\n",
       "\t<tr><td>33</td><td>31</td></tr>\n",
       "</tbody>\n",
       "</table>\n"
      ],
      "text/latex": [
       "A tibble: 1 × 2\n",
       "\\begin{tabular}{ll}\n",
       " no\\_of\\_participants & total\\_no\\_days\\\\\n",
       " <int> & <int>\\\\\n",
       "\\hline\n",
       "\t 33 & 31\\\\\n",
       "\\end{tabular}\n"
      ],
      "text/markdown": [
       "\n",
       "A tibble: 1 × 2\n",
       "\n",
       "| no_of_participants &lt;int&gt; | total_no_days &lt;int&gt; |\n",
       "|---|---|\n",
       "| 33 | 31 |\n",
       "\n"
      ],
      "text/plain": [
       "  no_of_participants total_no_days\n",
       "1 33                 31           "
      ]
     },
     "metadata": {},
     "output_type": "display_data"
    }
   ],
   "source": [
    "#to check the number of participants \n",
    "daily_activity_c%>% \n",
    "summarize(no_of_participants = n_distinct(id), total_no_days = n_distinct(date))"
   ]
  },
  {
   "cell_type": "markdown",
   "id": "4075d061",
   "metadata": {
    "papermill": {
     "duration": 0.014283,
     "end_time": "2022-06-30T20:09:22.029299",
     "exception": false,
     "start_time": "2022-06-30T20:09:22.015016",
     "status": "completed"
    },
    "tags": []
   },
   "source": [
    "It can be seen that data was collected for 33 participants for a total number of 31 days(1 month)."
   ]
  },
  {
   "cell_type": "markdown",
   "id": "be0a527f",
   "metadata": {
    "papermill": {
     "duration": 0.013832,
     "end_time": "2022-06-30T20:09:22.058057",
     "exception": false,
     "start_time": "2022-06-30T20:09:22.044225",
     "status": "completed"
    },
    "tags": []
   },
   "source": [
    "To see how many days out of 31 participants were active for, and to also calculate the average number of active days."
   ]
  },
  {
   "cell_type": "code",
   "execution_count": 11,
   "id": "0c1a2384",
   "metadata": {
    "execution": {
     "iopub.execute_input": "2022-06-30T20:09:22.090617Z",
     "iopub.status.busy": "2022-06-30T20:09:22.088474Z",
     "iopub.status.idle": "2022-06-30T20:09:22.157128Z",
     "shell.execute_reply": "2022-06-30T20:09:22.154573Z"
    },
    "papermill": {
     "duration": 0.088066,
     "end_time": "2022-06-30T20:09:22.159969",
     "exception": false,
     "start_time": "2022-06-30T20:09:22.071903",
     "status": "completed"
    },
    "tags": []
   },
   "outputs": [
    {
     "data": {
      "text/html": [
       "<table class=\"dataframe\">\n",
       "<caption>A spec_tbl_df: 33 × 2</caption>\n",
       "<thead>\n",
       "\t<tr><th scope=col>id</th><th scope=col>n</th></tr>\n",
       "\t<tr><th scope=col>&lt;dbl&gt;</th><th scope=col>&lt;int&gt;</th></tr>\n",
       "</thead>\n",
       "<tbody>\n",
       "\t<tr><td>1503960366</td><td>31</td></tr>\n",
       "\t<tr><td>1624580081</td><td>31</td></tr>\n",
       "\t<tr><td>1644430081</td><td>30</td></tr>\n",
       "\t<tr><td>1844505072</td><td>31</td></tr>\n",
       "\t<tr><td>1927972279</td><td>31</td></tr>\n",
       "\t<tr><td>2022484408</td><td>31</td></tr>\n",
       "\t<tr><td>2026352035</td><td>31</td></tr>\n",
       "\t<tr><td>2320127002</td><td>31</td></tr>\n",
       "\t<tr><td>2347167796</td><td>18</td></tr>\n",
       "\t<tr><td>2873212765</td><td>31</td></tr>\n",
       "\t<tr><td>3372868164</td><td>20</td></tr>\n",
       "\t<tr><td>3977333714</td><td>30</td></tr>\n",
       "\t<tr><td>4020332650</td><td>31</td></tr>\n",
       "\t<tr><td>4057192912</td><td> 4</td></tr>\n",
       "\t<tr><td>4319703577</td><td>31</td></tr>\n",
       "\t<tr><td>4388161847</td><td>31</td></tr>\n",
       "\t<tr><td>4445114986</td><td>31</td></tr>\n",
       "\t<tr><td>4558609924</td><td>31</td></tr>\n",
       "\t<tr><td>4702921684</td><td>31</td></tr>\n",
       "\t<tr><td>5553957443</td><td>31</td></tr>\n",
       "\t<tr><td>5577150313</td><td>30</td></tr>\n",
       "\t<tr><td>6117666160</td><td>28</td></tr>\n",
       "\t<tr><td>6290855005</td><td>29</td></tr>\n",
       "\t<tr><td>6775888955</td><td>26</td></tr>\n",
       "\t<tr><td>6962181067</td><td>31</td></tr>\n",
       "\t<tr><td>7007744171</td><td>26</td></tr>\n",
       "\t<tr><td>7086361926</td><td>31</td></tr>\n",
       "\t<tr><td>8053475328</td><td>31</td></tr>\n",
       "\t<tr><td>8253242879</td><td>19</td></tr>\n",
       "\t<tr><td>8378563200</td><td>31</td></tr>\n",
       "\t<tr><td>8583815059</td><td>31</td></tr>\n",
       "\t<tr><td>8792009665</td><td>29</td></tr>\n",
       "\t<tr><td>8877689391</td><td>31</td></tr>\n",
       "</tbody>\n",
       "</table>\n"
      ],
      "text/latex": [
       "A spec\\_tbl\\_df: 33 × 2\n",
       "\\begin{tabular}{ll}\n",
       " id & n\\\\\n",
       " <dbl> & <int>\\\\\n",
       "\\hline\n",
       "\t 1503960366 & 31\\\\\n",
       "\t 1624580081 & 31\\\\\n",
       "\t 1644430081 & 30\\\\\n",
       "\t 1844505072 & 31\\\\\n",
       "\t 1927972279 & 31\\\\\n",
       "\t 2022484408 & 31\\\\\n",
       "\t 2026352035 & 31\\\\\n",
       "\t 2320127002 & 31\\\\\n",
       "\t 2347167796 & 18\\\\\n",
       "\t 2873212765 & 31\\\\\n",
       "\t 3372868164 & 20\\\\\n",
       "\t 3977333714 & 30\\\\\n",
       "\t 4020332650 & 31\\\\\n",
       "\t 4057192912 &  4\\\\\n",
       "\t 4319703577 & 31\\\\\n",
       "\t 4388161847 & 31\\\\\n",
       "\t 4445114986 & 31\\\\\n",
       "\t 4558609924 & 31\\\\\n",
       "\t 4702921684 & 31\\\\\n",
       "\t 5553957443 & 31\\\\\n",
       "\t 5577150313 & 30\\\\\n",
       "\t 6117666160 & 28\\\\\n",
       "\t 6290855005 & 29\\\\\n",
       "\t 6775888955 & 26\\\\\n",
       "\t 6962181067 & 31\\\\\n",
       "\t 7007744171 & 26\\\\\n",
       "\t 7086361926 & 31\\\\\n",
       "\t 8053475328 & 31\\\\\n",
       "\t 8253242879 & 19\\\\\n",
       "\t 8378563200 & 31\\\\\n",
       "\t 8583815059 & 31\\\\\n",
       "\t 8792009665 & 29\\\\\n",
       "\t 8877689391 & 31\\\\\n",
       "\\end{tabular}\n"
      ],
      "text/markdown": [
       "\n",
       "A spec_tbl_df: 33 × 2\n",
       "\n",
       "| id &lt;dbl&gt; | n &lt;int&gt; |\n",
       "|---|---|\n",
       "| 1503960366 | 31 |\n",
       "| 1624580081 | 31 |\n",
       "| 1644430081 | 30 |\n",
       "| 1844505072 | 31 |\n",
       "| 1927972279 | 31 |\n",
       "| 2022484408 | 31 |\n",
       "| 2026352035 | 31 |\n",
       "| 2320127002 | 31 |\n",
       "| 2347167796 | 18 |\n",
       "| 2873212765 | 31 |\n",
       "| 3372868164 | 20 |\n",
       "| 3977333714 | 30 |\n",
       "| 4020332650 | 31 |\n",
       "| 4057192912 |  4 |\n",
       "| 4319703577 | 31 |\n",
       "| 4388161847 | 31 |\n",
       "| 4445114986 | 31 |\n",
       "| 4558609924 | 31 |\n",
       "| 4702921684 | 31 |\n",
       "| 5553957443 | 31 |\n",
       "| 5577150313 | 30 |\n",
       "| 6117666160 | 28 |\n",
       "| 6290855005 | 29 |\n",
       "| 6775888955 | 26 |\n",
       "| 6962181067 | 31 |\n",
       "| 7007744171 | 26 |\n",
       "| 7086361926 | 31 |\n",
       "| 8053475328 | 31 |\n",
       "| 8253242879 | 19 |\n",
       "| 8378563200 | 31 |\n",
       "| 8583815059 | 31 |\n",
       "| 8792009665 | 29 |\n",
       "| 8877689391 | 31 |\n",
       "\n"
      ],
      "text/plain": [
       "   id         n \n",
       "1  1503960366 31\n",
       "2  1624580081 31\n",
       "3  1644430081 30\n",
       "4  1844505072 31\n",
       "5  1927972279 31\n",
       "6  2022484408 31\n",
       "7  2026352035 31\n",
       "8  2320127002 31\n",
       "9  2347167796 18\n",
       "10 2873212765 31\n",
       "11 3372868164 20\n",
       "12 3977333714 30\n",
       "13 4020332650 31\n",
       "14 4057192912  4\n",
       "15 4319703577 31\n",
       "16 4388161847 31\n",
       "17 4445114986 31\n",
       "18 4558609924 31\n",
       "19 4702921684 31\n",
       "20 5553957443 31\n",
       "21 5577150313 30\n",
       "22 6117666160 28\n",
       "23 6290855005 29\n",
       "24 6775888955 26\n",
       "25 6962181067 31\n",
       "26 7007744171 26\n",
       "27 7086361926 31\n",
       "28 8053475328 31\n",
       "29 8253242879 19\n",
       "30 8378563200 31\n",
       "31 8583815059 31\n",
       "32 8792009665 29\n",
       "33 8877689391 31"
      ]
     },
     "metadata": {},
     "output_type": "display_data"
    },
    {
     "name": "stdout",
     "output_type": "stream",
     "text": [
      "[1] \"28.4848484848485 is the average number of active days\"\n"
     ]
    }
   ],
   "source": [
    "daily_info <- count(daily_activity_c, id)\n",
    "View(daily_info)\n",
    "\n",
    "mean = mean(daily_info$n)\n",
    "print(paste(mean, 'is the average number of active days'))"
   ]
  },
  {
   "cell_type": "markdown",
   "id": "56e8022d",
   "metadata": {
    "papermill": {
     "duration": 0.014985,
     "end_time": "2022-06-30T20:09:22.187945",
     "exception": false,
     "start_time": "2022-06-30T20:09:22.172960",
     "status": "completed"
    },
    "tags": []
   },
   "source": [
    "This shows us a larger fraction of the users were actively involved"
   ]
  },
  {
   "cell_type": "markdown",
   "id": "bea2f699",
   "metadata": {
    "papermill": {
     "duration": 0.012714,
     "end_time": "2022-06-30T20:09:22.213688",
     "exception": false,
     "start_time": "2022-06-30T20:09:22.200974",
     "status": "completed"
    },
    "tags": []
   },
   "source": [
    "Merging sleepday and daily acivity to closely observe trends"
   ]
  },
  {
   "cell_type": "code",
   "execution_count": 12,
   "id": "4dc62e02",
   "metadata": {
    "execution": {
     "iopub.execute_input": "2022-06-30T20:09:22.246543Z",
     "iopub.status.busy": "2022-06-30T20:09:22.244832Z",
     "iopub.status.idle": "2022-06-30T20:09:22.287354Z",
     "shell.execute_reply": "2022-06-30T20:09:22.285577Z"
    },
    "papermill": {
     "duration": 0.062861,
     "end_time": "2022-06-30T20:09:22.289694",
     "exception": false,
     "start_time": "2022-06-30T20:09:22.226833",
     "status": "completed"
    },
    "tags": []
   },
   "outputs": [
    {
     "data": {
      "text/html": [
       "<table class=\"dataframe\">\n",
       "<caption>A data.frame: 6 × 18</caption>\n",
       "<thead>\n",
       "\t<tr><th></th><th scope=col>id</th><th scope=col>date</th><th scope=col>total_steps</th><th scope=col>total_distance</th><th scope=col>tracker_distance</th><th scope=col>logged_activities_distance</th><th scope=col>very_active_distance</th><th scope=col>moderately_active_distance</th><th scope=col>light_active_distance</th><th scope=col>sedentary_active_distance</th><th scope=col>very_active_minutes</th><th scope=col>fairly_active_minutes</th><th scope=col>lightly_active_minutes</th><th scope=col>sedentary_minutes</th><th scope=col>total_calories</th><th scope=col>total_sleep_records</th><th scope=col>total_minutes_asleep</th><th scope=col>total_time_in_bed</th></tr>\n",
       "\t<tr><th></th><th scope=col>&lt;dbl&gt;</th><th scope=col>&lt;date&gt;</th><th scope=col>&lt;dbl&gt;</th><th scope=col>&lt;dbl&gt;</th><th scope=col>&lt;dbl&gt;</th><th scope=col>&lt;dbl&gt;</th><th scope=col>&lt;dbl&gt;</th><th scope=col>&lt;dbl&gt;</th><th scope=col>&lt;dbl&gt;</th><th scope=col>&lt;dbl&gt;</th><th scope=col>&lt;dbl&gt;</th><th scope=col>&lt;dbl&gt;</th><th scope=col>&lt;dbl&gt;</th><th scope=col>&lt;dbl&gt;</th><th scope=col>&lt;dbl&gt;</th><th scope=col>&lt;dbl&gt;</th><th scope=col>&lt;dbl&gt;</th><th scope=col>&lt;dbl&gt;</th></tr>\n",
       "</thead>\n",
       "<tbody>\n",
       "\t<tr><th scope=row>1</th><td>1503960366</td><td>2016-04-12</td><td>13162</td><td>8.50</td><td>8.50</td><td>0</td><td>1.88</td><td>0.55</td><td>6.06</td><td>0</td><td>25</td><td>13</td><td>328</td><td>728</td><td>1985</td><td>1</td><td>327</td><td>346</td></tr>\n",
       "\t<tr><th scope=row>2</th><td>1503960366</td><td>2016-04-13</td><td>10735</td><td>6.97</td><td>6.97</td><td>0</td><td>1.57</td><td>0.69</td><td>4.71</td><td>0</td><td>21</td><td>19</td><td>217</td><td>776</td><td>1797</td><td>2</td><td>384</td><td>407</td></tr>\n",
       "\t<tr><th scope=row>3</th><td>1503960366</td><td>2016-04-15</td><td> 9762</td><td>6.28</td><td>6.28</td><td>0</td><td>2.14</td><td>1.26</td><td>2.83</td><td>0</td><td>29</td><td>34</td><td>209</td><td>726</td><td>1745</td><td>1</td><td>412</td><td>442</td></tr>\n",
       "\t<tr><th scope=row>4</th><td>1503960366</td><td>2016-04-16</td><td>12669</td><td>8.16</td><td>8.16</td><td>0</td><td>2.71</td><td>0.41</td><td>5.04</td><td>0</td><td>36</td><td>10</td><td>221</td><td>773</td><td>1863</td><td>2</td><td>340</td><td>367</td></tr>\n",
       "\t<tr><th scope=row>5</th><td>1503960366</td><td>2016-04-17</td><td> 9705</td><td>6.48</td><td>6.48</td><td>0</td><td>3.19</td><td>0.78</td><td>2.51</td><td>0</td><td>38</td><td>20</td><td>164</td><td>539</td><td>1728</td><td>1</td><td>700</td><td>712</td></tr>\n",
       "\t<tr><th scope=row>6</th><td>1503960366</td><td>2016-04-19</td><td>15506</td><td>9.88</td><td>9.88</td><td>0</td><td>3.53</td><td>1.32</td><td>5.03</td><td>0</td><td>50</td><td>31</td><td>264</td><td>775</td><td>2035</td><td>1</td><td>304</td><td>320</td></tr>\n",
       "</tbody>\n",
       "</table>\n"
      ],
      "text/latex": [
       "A data.frame: 6 × 18\n",
       "\\begin{tabular}{r|llllllllllllllllll}\n",
       "  & id & date & total\\_steps & total\\_distance & tracker\\_distance & logged\\_activities\\_distance & very\\_active\\_distance & moderately\\_active\\_distance & light\\_active\\_distance & sedentary\\_active\\_distance & very\\_active\\_minutes & fairly\\_active\\_minutes & lightly\\_active\\_minutes & sedentary\\_minutes & total\\_calories & total\\_sleep\\_records & total\\_minutes\\_asleep & total\\_time\\_in\\_bed\\\\\n",
       "  & <dbl> & <date> & <dbl> & <dbl> & <dbl> & <dbl> & <dbl> & <dbl> & <dbl> & <dbl> & <dbl> & <dbl> & <dbl> & <dbl> & <dbl> & <dbl> & <dbl> & <dbl>\\\\\n",
       "\\hline\n",
       "\t1 & 1503960366 & 2016-04-12 & 13162 & 8.50 & 8.50 & 0 & 1.88 & 0.55 & 6.06 & 0 & 25 & 13 & 328 & 728 & 1985 & 1 & 327 & 346\\\\\n",
       "\t2 & 1503960366 & 2016-04-13 & 10735 & 6.97 & 6.97 & 0 & 1.57 & 0.69 & 4.71 & 0 & 21 & 19 & 217 & 776 & 1797 & 2 & 384 & 407\\\\\n",
       "\t3 & 1503960366 & 2016-04-15 &  9762 & 6.28 & 6.28 & 0 & 2.14 & 1.26 & 2.83 & 0 & 29 & 34 & 209 & 726 & 1745 & 1 & 412 & 442\\\\\n",
       "\t4 & 1503960366 & 2016-04-16 & 12669 & 8.16 & 8.16 & 0 & 2.71 & 0.41 & 5.04 & 0 & 36 & 10 & 221 & 773 & 1863 & 2 & 340 & 367\\\\\n",
       "\t5 & 1503960366 & 2016-04-17 &  9705 & 6.48 & 6.48 & 0 & 3.19 & 0.78 & 2.51 & 0 & 38 & 20 & 164 & 539 & 1728 & 1 & 700 & 712\\\\\n",
       "\t6 & 1503960366 & 2016-04-19 & 15506 & 9.88 & 9.88 & 0 & 3.53 & 1.32 & 5.03 & 0 & 50 & 31 & 264 & 775 & 2035 & 1 & 304 & 320\\\\\n",
       "\\end{tabular}\n"
      ],
      "text/markdown": [
       "\n",
       "A data.frame: 6 × 18\n",
       "\n",
       "| <!--/--> | id &lt;dbl&gt; | date &lt;date&gt; | total_steps &lt;dbl&gt; | total_distance &lt;dbl&gt; | tracker_distance &lt;dbl&gt; | logged_activities_distance &lt;dbl&gt; | very_active_distance &lt;dbl&gt; | moderately_active_distance &lt;dbl&gt; | light_active_distance &lt;dbl&gt; | sedentary_active_distance &lt;dbl&gt; | very_active_minutes &lt;dbl&gt; | fairly_active_minutes &lt;dbl&gt; | lightly_active_minutes &lt;dbl&gt; | sedentary_minutes &lt;dbl&gt; | total_calories &lt;dbl&gt; | total_sleep_records &lt;dbl&gt; | total_minutes_asleep &lt;dbl&gt; | total_time_in_bed &lt;dbl&gt; |\n",
       "|---|---|---|---|---|---|---|---|---|---|---|---|---|---|---|---|---|---|---|\n",
       "| 1 | 1503960366 | 2016-04-12 | 13162 | 8.50 | 8.50 | 0 | 1.88 | 0.55 | 6.06 | 0 | 25 | 13 | 328 | 728 | 1985 | 1 | 327 | 346 |\n",
       "| 2 | 1503960366 | 2016-04-13 | 10735 | 6.97 | 6.97 | 0 | 1.57 | 0.69 | 4.71 | 0 | 21 | 19 | 217 | 776 | 1797 | 2 | 384 | 407 |\n",
       "| 3 | 1503960366 | 2016-04-15 |  9762 | 6.28 | 6.28 | 0 | 2.14 | 1.26 | 2.83 | 0 | 29 | 34 | 209 | 726 | 1745 | 1 | 412 | 442 |\n",
       "| 4 | 1503960366 | 2016-04-16 | 12669 | 8.16 | 8.16 | 0 | 2.71 | 0.41 | 5.04 | 0 | 36 | 10 | 221 | 773 | 1863 | 2 | 340 | 367 |\n",
       "| 5 | 1503960366 | 2016-04-17 |  9705 | 6.48 | 6.48 | 0 | 3.19 | 0.78 | 2.51 | 0 | 38 | 20 | 164 | 539 | 1728 | 1 | 700 | 712 |\n",
       "| 6 | 1503960366 | 2016-04-19 | 15506 | 9.88 | 9.88 | 0 | 3.53 | 1.32 | 5.03 | 0 | 50 | 31 | 264 | 775 | 2035 | 1 | 304 | 320 |\n",
       "\n"
      ],
      "text/plain": [
       "  id         date       total_steps total_distance tracker_distance\n",
       "1 1503960366 2016-04-12 13162       8.50           8.50            \n",
       "2 1503960366 2016-04-13 10735       6.97           6.97            \n",
       "3 1503960366 2016-04-15  9762       6.28           6.28            \n",
       "4 1503960366 2016-04-16 12669       8.16           8.16            \n",
       "5 1503960366 2016-04-17  9705       6.48           6.48            \n",
       "6 1503960366 2016-04-19 15506       9.88           9.88            \n",
       "  logged_activities_distance very_active_distance moderately_active_distance\n",
       "1 0                          1.88                 0.55                      \n",
       "2 0                          1.57                 0.69                      \n",
       "3 0                          2.14                 1.26                      \n",
       "4 0                          2.71                 0.41                      \n",
       "5 0                          3.19                 0.78                      \n",
       "6 0                          3.53                 1.32                      \n",
       "  light_active_distance sedentary_active_distance very_active_minutes\n",
       "1 6.06                  0                         25                 \n",
       "2 4.71                  0                         21                 \n",
       "3 2.83                  0                         29                 \n",
       "4 5.04                  0                         36                 \n",
       "5 2.51                  0                         38                 \n",
       "6 5.03                  0                         50                 \n",
       "  fairly_active_minutes lightly_active_minutes sedentary_minutes total_calories\n",
       "1 13                    328                    728               1985          \n",
       "2 19                    217                    776               1797          \n",
       "3 34                    209                    726               1745          \n",
       "4 10                    221                    773               1863          \n",
       "5 20                    164                    539               1728          \n",
       "6 31                    264                    775               2035          \n",
       "  total_sleep_records total_minutes_asleep total_time_in_bed\n",
       "1 1                   327                  346              \n",
       "2 2                   384                  407              \n",
       "3 1                   412                  442              \n",
       "4 2                   340                  367              \n",
       "5 1                   700                  712              \n",
       "6 1                   304                  320              "
      ]
     },
     "metadata": {},
     "output_type": "display_data"
    }
   ],
   "source": [
    "merged_daily<- merge(daily_activity_c,sleep_day_c, by=c('id', 'date'))\n",
    "head(merged_daily)"
   ]
  },
  {
   "cell_type": "markdown",
   "id": "67765c3f",
   "metadata": {
    "papermill": {
     "duration": 0.013468,
     "end_time": "2022-06-30T20:09:22.316109",
     "exception": false,
     "start_time": "2022-06-30T20:09:22.302641",
     "status": "completed"
    },
    "tags": []
   },
   "source": [
    "Extracting the weekdays from the date."
   ]
  },
  {
   "cell_type": "code",
   "execution_count": 13,
   "id": "1c4c05e3",
   "metadata": {
    "execution": {
     "iopub.execute_input": "2022-06-30T20:09:22.346497Z",
     "iopub.status.busy": "2022-06-30T20:09:22.344791Z",
     "iopub.status.idle": "2022-06-30T20:09:22.392595Z",
     "shell.execute_reply": "2022-06-30T20:09:22.378905Z"
    },
    "papermill": {
     "duration": 0.065737,
     "end_time": "2022-06-30T20:09:22.395764",
     "exception": false,
     "start_time": "2022-06-30T20:09:22.330027",
     "status": "completed"
    },
    "tags": []
   },
   "outputs": [
    {
     "data": {
      "text/html": [
       "<table class=\"dataframe\">\n",
       "<caption>A data.frame: 6 × 19</caption>\n",
       "<thead>\n",
       "\t<tr><th></th><th scope=col>id</th><th scope=col>date</th><th scope=col>total_steps</th><th scope=col>total_distance</th><th scope=col>tracker_distance</th><th scope=col>logged_activities_distance</th><th scope=col>very_active_distance</th><th scope=col>moderately_active_distance</th><th scope=col>light_active_distance</th><th scope=col>sedentary_active_distance</th><th scope=col>very_active_minutes</th><th scope=col>fairly_active_minutes</th><th scope=col>lightly_active_minutes</th><th scope=col>sedentary_minutes</th><th scope=col>total_calories</th><th scope=col>total_sleep_records</th><th scope=col>total_minutes_asleep</th><th scope=col>total_time_in_bed</th><th scope=col>weekdays</th></tr>\n",
       "\t<tr><th></th><th scope=col>&lt;dbl&gt;</th><th scope=col>&lt;date&gt;</th><th scope=col>&lt;dbl&gt;</th><th scope=col>&lt;dbl&gt;</th><th scope=col>&lt;dbl&gt;</th><th scope=col>&lt;dbl&gt;</th><th scope=col>&lt;dbl&gt;</th><th scope=col>&lt;dbl&gt;</th><th scope=col>&lt;dbl&gt;</th><th scope=col>&lt;dbl&gt;</th><th scope=col>&lt;dbl&gt;</th><th scope=col>&lt;dbl&gt;</th><th scope=col>&lt;dbl&gt;</th><th scope=col>&lt;dbl&gt;</th><th scope=col>&lt;dbl&gt;</th><th scope=col>&lt;dbl&gt;</th><th scope=col>&lt;dbl&gt;</th><th scope=col>&lt;dbl&gt;</th><th scope=col>&lt;chr&gt;</th></tr>\n",
       "</thead>\n",
       "<tbody>\n",
       "\t<tr><th scope=row>1</th><td>1503960366</td><td>2016-04-12</td><td>13162</td><td>8.50</td><td>8.50</td><td>0</td><td>1.88</td><td>0.55</td><td>6.06</td><td>0</td><td>25</td><td>13</td><td>328</td><td>728</td><td>1985</td><td>1</td><td>327</td><td>346</td><td>Tuesday  </td></tr>\n",
       "\t<tr><th scope=row>2</th><td>1503960366</td><td>2016-04-13</td><td>10735</td><td>6.97</td><td>6.97</td><td>0</td><td>1.57</td><td>0.69</td><td>4.71</td><td>0</td><td>21</td><td>19</td><td>217</td><td>776</td><td>1797</td><td>2</td><td>384</td><td>407</td><td>Wednesday</td></tr>\n",
       "\t<tr><th scope=row>3</th><td>1503960366</td><td>2016-04-15</td><td> 9762</td><td>6.28</td><td>6.28</td><td>0</td><td>2.14</td><td>1.26</td><td>2.83</td><td>0</td><td>29</td><td>34</td><td>209</td><td>726</td><td>1745</td><td>1</td><td>412</td><td>442</td><td>Friday   </td></tr>\n",
       "\t<tr><th scope=row>4</th><td>1503960366</td><td>2016-04-16</td><td>12669</td><td>8.16</td><td>8.16</td><td>0</td><td>2.71</td><td>0.41</td><td>5.04</td><td>0</td><td>36</td><td>10</td><td>221</td><td>773</td><td>1863</td><td>2</td><td>340</td><td>367</td><td>Saturday </td></tr>\n",
       "\t<tr><th scope=row>5</th><td>1503960366</td><td>2016-04-17</td><td> 9705</td><td>6.48</td><td>6.48</td><td>0</td><td>3.19</td><td>0.78</td><td>2.51</td><td>0</td><td>38</td><td>20</td><td>164</td><td>539</td><td>1728</td><td>1</td><td>700</td><td>712</td><td>Sunday   </td></tr>\n",
       "\t<tr><th scope=row>6</th><td>1503960366</td><td>2016-04-19</td><td>15506</td><td>9.88</td><td>9.88</td><td>0</td><td>3.53</td><td>1.32</td><td>5.03</td><td>0</td><td>50</td><td>31</td><td>264</td><td>775</td><td>2035</td><td>1</td><td>304</td><td>320</td><td>Tuesday  </td></tr>\n",
       "</tbody>\n",
       "</table>\n"
      ],
      "text/latex": [
       "A data.frame: 6 × 19\n",
       "\\begin{tabular}{r|lllllllllllllllllll}\n",
       "  & id & date & total\\_steps & total\\_distance & tracker\\_distance & logged\\_activities\\_distance & very\\_active\\_distance & moderately\\_active\\_distance & light\\_active\\_distance & sedentary\\_active\\_distance & very\\_active\\_minutes & fairly\\_active\\_minutes & lightly\\_active\\_minutes & sedentary\\_minutes & total\\_calories & total\\_sleep\\_records & total\\_minutes\\_asleep & total\\_time\\_in\\_bed & weekdays\\\\\n",
       "  & <dbl> & <date> & <dbl> & <dbl> & <dbl> & <dbl> & <dbl> & <dbl> & <dbl> & <dbl> & <dbl> & <dbl> & <dbl> & <dbl> & <dbl> & <dbl> & <dbl> & <dbl> & <chr>\\\\\n",
       "\\hline\n",
       "\t1 & 1503960366 & 2016-04-12 & 13162 & 8.50 & 8.50 & 0 & 1.88 & 0.55 & 6.06 & 0 & 25 & 13 & 328 & 728 & 1985 & 1 & 327 & 346 & Tuesday  \\\\\n",
       "\t2 & 1503960366 & 2016-04-13 & 10735 & 6.97 & 6.97 & 0 & 1.57 & 0.69 & 4.71 & 0 & 21 & 19 & 217 & 776 & 1797 & 2 & 384 & 407 & Wednesday\\\\\n",
       "\t3 & 1503960366 & 2016-04-15 &  9762 & 6.28 & 6.28 & 0 & 2.14 & 1.26 & 2.83 & 0 & 29 & 34 & 209 & 726 & 1745 & 1 & 412 & 442 & Friday   \\\\\n",
       "\t4 & 1503960366 & 2016-04-16 & 12669 & 8.16 & 8.16 & 0 & 2.71 & 0.41 & 5.04 & 0 & 36 & 10 & 221 & 773 & 1863 & 2 & 340 & 367 & Saturday \\\\\n",
       "\t5 & 1503960366 & 2016-04-17 &  9705 & 6.48 & 6.48 & 0 & 3.19 & 0.78 & 2.51 & 0 & 38 & 20 & 164 & 539 & 1728 & 1 & 700 & 712 & Sunday   \\\\\n",
       "\t6 & 1503960366 & 2016-04-19 & 15506 & 9.88 & 9.88 & 0 & 3.53 & 1.32 & 5.03 & 0 & 50 & 31 & 264 & 775 & 2035 & 1 & 304 & 320 & Tuesday  \\\\\n",
       "\\end{tabular}\n"
      ],
      "text/markdown": [
       "\n",
       "A data.frame: 6 × 19\n",
       "\n",
       "| <!--/--> | id &lt;dbl&gt; | date &lt;date&gt; | total_steps &lt;dbl&gt; | total_distance &lt;dbl&gt; | tracker_distance &lt;dbl&gt; | logged_activities_distance &lt;dbl&gt; | very_active_distance &lt;dbl&gt; | moderately_active_distance &lt;dbl&gt; | light_active_distance &lt;dbl&gt; | sedentary_active_distance &lt;dbl&gt; | very_active_minutes &lt;dbl&gt; | fairly_active_minutes &lt;dbl&gt; | lightly_active_minutes &lt;dbl&gt; | sedentary_minutes &lt;dbl&gt; | total_calories &lt;dbl&gt; | total_sleep_records &lt;dbl&gt; | total_minutes_asleep &lt;dbl&gt; | total_time_in_bed &lt;dbl&gt; | weekdays &lt;chr&gt; |\n",
       "|---|---|---|---|---|---|---|---|---|---|---|---|---|---|---|---|---|---|---|---|\n",
       "| 1 | 1503960366 | 2016-04-12 | 13162 | 8.50 | 8.50 | 0 | 1.88 | 0.55 | 6.06 | 0 | 25 | 13 | 328 | 728 | 1985 | 1 | 327 | 346 | Tuesday   |\n",
       "| 2 | 1503960366 | 2016-04-13 | 10735 | 6.97 | 6.97 | 0 | 1.57 | 0.69 | 4.71 | 0 | 21 | 19 | 217 | 776 | 1797 | 2 | 384 | 407 | Wednesday |\n",
       "| 3 | 1503960366 | 2016-04-15 |  9762 | 6.28 | 6.28 | 0 | 2.14 | 1.26 | 2.83 | 0 | 29 | 34 | 209 | 726 | 1745 | 1 | 412 | 442 | Friday    |\n",
       "| 4 | 1503960366 | 2016-04-16 | 12669 | 8.16 | 8.16 | 0 | 2.71 | 0.41 | 5.04 | 0 | 36 | 10 | 221 | 773 | 1863 | 2 | 340 | 367 | Saturday  |\n",
       "| 5 | 1503960366 | 2016-04-17 |  9705 | 6.48 | 6.48 | 0 | 3.19 | 0.78 | 2.51 | 0 | 38 | 20 | 164 | 539 | 1728 | 1 | 700 | 712 | Sunday    |\n",
       "| 6 | 1503960366 | 2016-04-19 | 15506 | 9.88 | 9.88 | 0 | 3.53 | 1.32 | 5.03 | 0 | 50 | 31 | 264 | 775 | 2035 | 1 | 304 | 320 | Tuesday   |\n",
       "\n"
      ],
      "text/plain": [
       "  id         date       total_steps total_distance tracker_distance\n",
       "1 1503960366 2016-04-12 13162       8.50           8.50            \n",
       "2 1503960366 2016-04-13 10735       6.97           6.97            \n",
       "3 1503960366 2016-04-15  9762       6.28           6.28            \n",
       "4 1503960366 2016-04-16 12669       8.16           8.16            \n",
       "5 1503960366 2016-04-17  9705       6.48           6.48            \n",
       "6 1503960366 2016-04-19 15506       9.88           9.88            \n",
       "  logged_activities_distance very_active_distance moderately_active_distance\n",
       "1 0                          1.88                 0.55                      \n",
       "2 0                          1.57                 0.69                      \n",
       "3 0                          2.14                 1.26                      \n",
       "4 0                          2.71                 0.41                      \n",
       "5 0                          3.19                 0.78                      \n",
       "6 0                          3.53                 1.32                      \n",
       "  light_active_distance sedentary_active_distance very_active_minutes\n",
       "1 6.06                  0                         25                 \n",
       "2 4.71                  0                         21                 \n",
       "3 2.83                  0                         29                 \n",
       "4 5.04                  0                         36                 \n",
       "5 2.51                  0                         38                 \n",
       "6 5.03                  0                         50                 \n",
       "  fairly_active_minutes lightly_active_minutes sedentary_minutes total_calories\n",
       "1 13                    328                    728               1985          \n",
       "2 19                    217                    776               1797          \n",
       "3 34                    209                    726               1745          \n",
       "4 10                    221                    773               1863          \n",
       "5 20                    164                    539               1728          \n",
       "6 31                    264                    775               2035          \n",
       "  total_sleep_records total_minutes_asleep total_time_in_bed weekdays \n",
       "1 1                   327                  346               Tuesday  \n",
       "2 2                   384                  407               Wednesday\n",
       "3 1                   412                  442               Friday   \n",
       "4 2                   340                  367               Saturday \n",
       "5 1                   700                  712               Sunday   \n",
       "6 1                   304                  320               Tuesday  "
      ]
     },
     "metadata": {},
     "output_type": "display_data"
    }
   ],
   "source": [
    "merged_daily_summary<- merged_daily %>% \n",
    "  mutate(weekdays = weekdays(date))\n",
    "head(merged_daily_summary)"
   ]
  },
  {
   "cell_type": "markdown",
   "id": "c781f799",
   "metadata": {
    "papermill": {
     "duration": 0.013298,
     "end_time": "2022-06-30T20:09:22.422676",
     "exception": false,
     "start_time": "2022-06-30T20:09:22.409378",
     "status": "completed"
    },
    "tags": []
   },
   "source": [
    "We can check our data to ensure that the data was collected for daily activity with a total of 24 hrs(1440 minutes)"
   ]
  },
  {
   "cell_type": "code",
   "execution_count": 14,
   "id": "ce205ee9",
   "metadata": {
    "execution": {
     "iopub.execute_input": "2022-06-30T20:09:22.454751Z",
     "iopub.status.busy": "2022-06-30T20:09:22.452928Z",
     "iopub.status.idle": "2022-06-30T20:09:22.544554Z",
     "shell.execute_reply": "2022-06-30T20:09:22.542513Z"
    },
    "papermill": {
     "duration": 0.111762,
     "end_time": "2022-06-30T20:09:22.547555",
     "exception": false,
     "start_time": "2022-06-30T20:09:22.435793",
     "status": "completed"
    },
    "tags": []
   },
   "outputs": [
    {
     "data": {
      "text/html": [
       "<table class=\"dataframe\">\n",
       "<caption>A data.frame: 6 × 3</caption>\n",
       "<thead>\n",
       "\t<tr><th></th><th scope=col>id</th><th scope=col>date</th><th scope=col>total_minutes &lt;- ...</th></tr>\n",
       "\t<tr><th></th><th scope=col>&lt;dbl&gt;</th><th scope=col>&lt;date&gt;</th><th scope=col>&lt;dbl&gt;</th></tr>\n",
       "</thead>\n",
       "<tbody>\n",
       "\t<tr><th scope=row>1</th><td>1503960366</td><td>2016-04-12</td><td>1440</td></tr>\n",
       "\t<tr><th scope=row>2</th><td>1503960366</td><td>2016-04-13</td><td>1440</td></tr>\n",
       "\t<tr><th scope=row>3</th><td>1503960366</td><td>2016-04-15</td><td>1440</td></tr>\n",
       "\t<tr><th scope=row>4</th><td>1503960366</td><td>2016-04-16</td><td>1407</td></tr>\n",
       "\t<tr><th scope=row>5</th><td>1503960366</td><td>2016-04-17</td><td>1473</td></tr>\n",
       "\t<tr><th scope=row>6</th><td>1503960366</td><td>2016-04-19</td><td>1440</td></tr>\n",
       "</tbody>\n",
       "</table>\n"
      ],
      "text/latex": [
       "A data.frame: 6 × 3\n",
       "\\begin{tabular}{r|lll}\n",
       "  & id & date & total\\_minutes <- ...\\\\\n",
       "  & <dbl> & <date> & <dbl>\\\\\n",
       "\\hline\n",
       "\t1 & 1503960366 & 2016-04-12 & 1440\\\\\n",
       "\t2 & 1503960366 & 2016-04-13 & 1440\\\\\n",
       "\t3 & 1503960366 & 2016-04-15 & 1440\\\\\n",
       "\t4 & 1503960366 & 2016-04-16 & 1407\\\\\n",
       "\t5 & 1503960366 & 2016-04-17 & 1473\\\\\n",
       "\t6 & 1503960366 & 2016-04-19 & 1440\\\\\n",
       "\\end{tabular}\n"
      ],
      "text/markdown": [
       "\n",
       "A data.frame: 6 × 3\n",
       "\n",
       "| <!--/--> | id &lt;dbl&gt; | date &lt;date&gt; | total_minutes &lt;- ... &lt;dbl&gt; |\n",
       "|---|---|---|---|\n",
       "| 1 | 1503960366 | 2016-04-12 | 1440 |\n",
       "| 2 | 1503960366 | 2016-04-13 | 1440 |\n",
       "| 3 | 1503960366 | 2016-04-15 | 1440 |\n",
       "| 4 | 1503960366 | 2016-04-16 | 1407 |\n",
       "| 5 | 1503960366 | 2016-04-17 | 1473 |\n",
       "| 6 | 1503960366 | 2016-04-19 | 1440 |\n",
       "\n"
      ],
      "text/plain": [
       "  id         date       total_minutes <- ...\n",
       "1 1503960366 2016-04-12 1440                \n",
       "2 1503960366 2016-04-13 1440                \n",
       "3 1503960366 2016-04-15 1440                \n",
       "4 1503960366 2016-04-16 1407                \n",
       "5 1503960366 2016-04-17 1473                \n",
       "6 1503960366 2016-04-19 1440                "
      ]
     },
     "metadata": {},
     "output_type": "display_data"
    },
    {
     "data": {
      "text/plain": [
       "       id                 date            total_minutes <- ...\n",
       " Min.   :1.504e+09   Min.   :2016-04-12   Min.   : 323        \n",
       " 1st Qu.:3.977e+09   1st Qu.:2016-04-19   1st Qu.:1426        \n",
       " Median :4.703e+09   Median :2016-04-27   Median :1440        \n",
       " Mean   :5.001e+09   Mean   :2016-04-26   Mean   :1431        \n",
       " 3rd Qu.:6.962e+09   3rd Qu.:2016-05-04   3rd Qu.:1466        \n",
       " Max.   :8.792e+09   Max.   :2016-05-12   Max.   :1799        "
      ]
     },
     "metadata": {},
     "output_type": "display_data"
    }
   ],
   "source": [
    "merged_daily_validate<- merged_daily%>% \n",
    "summarise(id, date, total_minutes <- very_active_minutes+fairly_active_minutes+\n",
    "          lightly_active_minutes+sedentary_minutes+total_time_in_bed)\n",
    "head(merged_daily_validate)\n",
    "summary(merged_daily_validate)"
   ]
  },
  {
   "cell_type": "markdown",
   "id": "f541b4ab",
   "metadata": {
    "papermill": {
     "duration": 0.013782,
     "end_time": "2022-06-30T20:09:22.614226",
     "exception": false,
     "start_time": "2022-06-30T20:09:22.600444",
     "status": "completed"
    },
    "tags": []
   },
   "source": [
    "It can be seen that the daily activities were not exactly recorded all through the day, as data was collected for less than 1440 minutes in some cases. This shows a limitation to the data collected."
   ]
  },
  {
   "cell_type": "markdown",
   "id": "8981d747",
   "metadata": {
    "papermill": {
     "duration": 0.013901,
     "end_time": "2022-06-30T20:09:22.641780",
     "exception": false,
     "start_time": "2022-06-30T20:09:22.627879",
     "status": "completed"
    },
    "tags": []
   },
   "source": [
    "Checking the sleep records to observe how often sleep time was recorded for users"
   ]
  },
  {
   "cell_type": "code",
   "execution_count": 15,
   "id": "f3c384c4",
   "metadata": {
    "execution": {
     "iopub.execute_input": "2022-06-30T20:09:22.673803Z",
     "iopub.status.busy": "2022-06-30T20:09:22.672227Z",
     "iopub.status.idle": "2022-06-30T20:09:22.705688Z",
     "shell.execute_reply": "2022-06-30T20:09:22.703475Z"
    },
    "papermill": {
     "duration": 0.054177,
     "end_time": "2022-06-30T20:09:22.710402",
     "exception": false,
     "start_time": "2022-06-30T20:09:22.656225",
     "status": "completed"
    },
    "tags": []
   },
   "outputs": [
    {
     "data": {
      "text/html": [
       "<table class=\"dataframe\">\n",
       "<caption>A data.frame: 3 × 2</caption>\n",
       "<thead>\n",
       "\t<tr><th scope=col>total_sleep_records</th><th scope=col>n</th></tr>\n",
       "\t<tr><th scope=col>&lt;dbl&gt;</th><th scope=col>&lt;int&gt;</th></tr>\n",
       "</thead>\n",
       "<tbody>\n",
       "\t<tr><td>1</td><td>367</td></tr>\n",
       "\t<tr><td>2</td><td> 43</td></tr>\n",
       "\t<tr><td>3</td><td>  3</td></tr>\n",
       "</tbody>\n",
       "</table>\n"
      ],
      "text/latex": [
       "A data.frame: 3 × 2\n",
       "\\begin{tabular}{ll}\n",
       " total\\_sleep\\_records & n\\\\\n",
       " <dbl> & <int>\\\\\n",
       "\\hline\n",
       "\t 1 & 367\\\\\n",
       "\t 2 &  43\\\\\n",
       "\t 3 &   3\\\\\n",
       "\\end{tabular}\n"
      ],
      "text/markdown": [
       "\n",
       "A data.frame: 3 × 2\n",
       "\n",
       "| total_sleep_records &lt;dbl&gt; | n &lt;int&gt; |\n",
       "|---|---|\n",
       "| 1 | 367 |\n",
       "| 2 |  43 |\n",
       "| 3 |   3 |\n",
       "\n"
      ],
      "text/plain": [
       "  total_sleep_records n  \n",
       "1 1                   367\n",
       "2 2                    43\n",
       "3 3                     3"
      ]
     },
     "metadata": {},
     "output_type": "display_data"
    }
   ],
   "source": [
    "#Number of sleep records\n",
    "sleep_records <- merged_daily_summary %>%\n",
    "count(total_sleep_records)\n",
    "View(sleep_records)"
   ]
  },
  {
   "cell_type": "markdown",
   "id": "9a36bda5",
   "metadata": {
    "papermill": {
     "duration": 0.01449,
     "end_time": "2022-06-30T20:09:22.739962",
     "exception": false,
     "start_time": "2022-06-30T20:09:22.725472",
     "status": "completed"
    },
    "tags": []
   },
   "source": [
    "There was no proper record of sleep as most users recorded their sleep time just once. This data can only be used to make assumptions on their sleep pattern."
   ]
  },
  {
   "cell_type": "markdown",
   "id": "78b63bb4",
   "metadata": {
    "papermill": {
     "duration": 0.016296,
     "end_time": "2022-06-30T20:09:22.770833",
     "exception": false,
     "start_time": "2022-06-30T20:09:22.754537",
     "status": "completed"
    },
    "tags": []
   },
   "source": [
    "We can check the maximum and minimum sleep time for users"
   ]
  },
  {
   "cell_type": "code",
   "execution_count": 16,
   "id": "73e16b0b",
   "metadata": {
    "execution": {
     "iopub.execute_input": "2022-06-30T20:09:22.802845Z",
     "iopub.status.busy": "2022-06-30T20:09:22.801206Z",
     "iopub.status.idle": "2022-06-30T20:09:22.832134Z",
     "shell.execute_reply": "2022-06-30T20:09:22.830346Z"
    },
    "papermill": {
     "duration": 0.049145,
     "end_time": "2022-06-30T20:09:22.834556",
     "exception": false,
     "start_time": "2022-06-30T20:09:22.785411",
     "status": "completed"
    },
    "tags": []
   },
   "outputs": [
    {
     "data": {
      "text/html": [
       "796"
      ],
      "text/latex": [
       "796"
      ],
      "text/markdown": [
       "796"
      ],
      "text/plain": [
       "[1] 796"
      ]
     },
     "metadata": {},
     "output_type": "display_data"
    }
   ],
   "source": [
    "max(merged_daily_summary$total_minutes_asleep)"
   ]
  },
  {
   "cell_type": "code",
   "execution_count": 17,
   "id": "fa1fe289",
   "metadata": {
    "execution": {
     "iopub.execute_input": "2022-06-30T20:09:22.865802Z",
     "iopub.status.busy": "2022-06-30T20:09:22.864344Z",
     "iopub.status.idle": "2022-06-30T20:09:22.880177Z",
     "shell.execute_reply": "2022-06-30T20:09:22.878566Z"
    },
    "papermill": {
     "duration": 0.03371,
     "end_time": "2022-06-30T20:09:22.882385",
     "exception": false,
     "start_time": "2022-06-30T20:09:22.848675",
     "status": "completed"
    },
    "tags": []
   },
   "outputs": [
    {
     "data": {
      "text/html": [
       "58"
      ],
      "text/latex": [
       "58"
      ],
      "text/markdown": [
       "58"
      ],
      "text/plain": [
       "[1] 58"
      ]
     },
     "metadata": {},
     "output_type": "display_data"
    }
   ],
   "source": [
    "min(merged_daily_summary$total_minutes_asleep)"
   ]
  },
  {
   "cell_type": "markdown",
   "id": "9094834f",
   "metadata": {
    "papermill": {
     "duration": 0.013809,
     "end_time": "2022-06-30T20:09:22.909825",
     "exception": false,
     "start_time": "2022-06-30T20:09:22.896016",
     "status": "completed"
    },
    "tags": []
   },
   "source": [
    "We can retrieve the information about when the max and min sleep time occurs."
   ]
  },
  {
   "cell_type": "code",
   "execution_count": 18,
   "id": "3380382a",
   "metadata": {
    "execution": {
     "iopub.execute_input": "2022-06-30T20:09:22.941710Z",
     "iopub.status.busy": "2022-06-30T20:09:22.940189Z",
     "iopub.status.idle": "2022-06-30T20:09:22.992759Z",
     "shell.execute_reply": "2022-06-30T20:09:22.991003Z"
    },
    "papermill": {
     "duration": 0.070929,
     "end_time": "2022-06-30T20:09:22.994904",
     "exception": false,
     "start_time": "2022-06-30T20:09:22.923975",
     "status": "completed"
    },
    "tags": []
   },
   "outputs": [
    {
     "data": {
      "text/html": [
       "<table class=\"dataframe\">\n",
       "<caption>A data.frame: 1 × 19</caption>\n",
       "<thead>\n",
       "\t<tr><th scope=col>id</th><th scope=col>date</th><th scope=col>total_steps</th><th scope=col>total_distance</th><th scope=col>tracker_distance</th><th scope=col>logged_activities_distance</th><th scope=col>very_active_distance</th><th scope=col>moderately_active_distance</th><th scope=col>light_active_distance</th><th scope=col>sedentary_active_distance</th><th scope=col>very_active_minutes</th><th scope=col>fairly_active_minutes</th><th scope=col>lightly_active_minutes</th><th scope=col>sedentary_minutes</th><th scope=col>total_calories</th><th scope=col>total_sleep_records</th><th scope=col>total_minutes_asleep</th><th scope=col>total_time_in_bed</th><th scope=col>weekdays</th></tr>\n",
       "\t<tr><th scope=col>&lt;dbl&gt;</th><th scope=col>&lt;date&gt;</th><th scope=col>&lt;dbl&gt;</th><th scope=col>&lt;dbl&gt;</th><th scope=col>&lt;dbl&gt;</th><th scope=col>&lt;dbl&gt;</th><th scope=col>&lt;dbl&gt;</th><th scope=col>&lt;dbl&gt;</th><th scope=col>&lt;dbl&gt;</th><th scope=col>&lt;dbl&gt;</th><th scope=col>&lt;dbl&gt;</th><th scope=col>&lt;dbl&gt;</th><th scope=col>&lt;dbl&gt;</th><th scope=col>&lt;dbl&gt;</th><th scope=col>&lt;dbl&gt;</th><th scope=col>&lt;dbl&gt;</th><th scope=col>&lt;dbl&gt;</th><th scope=col>&lt;dbl&gt;</th><th scope=col>&lt;chr&gt;</th></tr>\n",
       "</thead>\n",
       "<tbody>\n",
       "\t<tr><td>1644430081</td><td>2016-05-02</td><td>3758</td><td>2.73</td><td>2.73</td><td>0</td><td>0.07</td><td>0.31</td><td>2.35</td><td>0</td><td>1</td><td>7</td><td>148</td><td>682</td><td>2580</td><td>1</td><td>796</td><td>961</td><td>Monday</td></tr>\n",
       "</tbody>\n",
       "</table>\n"
      ],
      "text/latex": [
       "A data.frame: 1 × 19\n",
       "\\begin{tabular}{lllllllllllllllllll}\n",
       " id & date & total\\_steps & total\\_distance & tracker\\_distance & logged\\_activities\\_distance & very\\_active\\_distance & moderately\\_active\\_distance & light\\_active\\_distance & sedentary\\_active\\_distance & very\\_active\\_minutes & fairly\\_active\\_minutes & lightly\\_active\\_minutes & sedentary\\_minutes & total\\_calories & total\\_sleep\\_records & total\\_minutes\\_asleep & total\\_time\\_in\\_bed & weekdays\\\\\n",
       " <dbl> & <date> & <dbl> & <dbl> & <dbl> & <dbl> & <dbl> & <dbl> & <dbl> & <dbl> & <dbl> & <dbl> & <dbl> & <dbl> & <dbl> & <dbl> & <dbl> & <dbl> & <chr>\\\\\n",
       "\\hline\n",
       "\t 1644430081 & 2016-05-02 & 3758 & 2.73 & 2.73 & 0 & 0.07 & 0.31 & 2.35 & 0 & 1 & 7 & 148 & 682 & 2580 & 1 & 796 & 961 & Monday\\\\\n",
       "\\end{tabular}\n"
      ],
      "text/markdown": [
       "\n",
       "A data.frame: 1 × 19\n",
       "\n",
       "| id &lt;dbl&gt; | date &lt;date&gt; | total_steps &lt;dbl&gt; | total_distance &lt;dbl&gt; | tracker_distance &lt;dbl&gt; | logged_activities_distance &lt;dbl&gt; | very_active_distance &lt;dbl&gt; | moderately_active_distance &lt;dbl&gt; | light_active_distance &lt;dbl&gt; | sedentary_active_distance &lt;dbl&gt; | very_active_minutes &lt;dbl&gt; | fairly_active_minutes &lt;dbl&gt; | lightly_active_minutes &lt;dbl&gt; | sedentary_minutes &lt;dbl&gt; | total_calories &lt;dbl&gt; | total_sleep_records &lt;dbl&gt; | total_minutes_asleep &lt;dbl&gt; | total_time_in_bed &lt;dbl&gt; | weekdays &lt;chr&gt; |\n",
       "|---|---|---|---|---|---|---|---|---|---|---|---|---|---|---|---|---|---|---|\n",
       "| 1644430081 | 2016-05-02 | 3758 | 2.73 | 2.73 | 0 | 0.07 | 0.31 | 2.35 | 0 | 1 | 7 | 148 | 682 | 2580 | 1 | 796 | 961 | Monday |\n",
       "\n"
      ],
      "text/plain": [
       "  id         date       total_steps total_distance tracker_distance\n",
       "1 1644430081 2016-05-02 3758        2.73           2.73            \n",
       "  logged_activities_distance very_active_distance moderately_active_distance\n",
       "1 0                          0.07                 0.31                      \n",
       "  light_active_distance sedentary_active_distance very_active_minutes\n",
       "1 2.35                  0                         1                  \n",
       "  fairly_active_minutes lightly_active_minutes sedentary_minutes total_calories\n",
       "1 7                     148                    682               2580          \n",
       "  total_sleep_records total_minutes_asleep total_time_in_bed weekdays\n",
       "1 1                   796                  961               Monday  "
      ]
     },
     "metadata": {},
     "output_type": "display_data"
    },
    {
     "data": {
      "text/html": [
       "<table class=\"dataframe\">\n",
       "<caption>A data.frame: 1 × 19</caption>\n",
       "<thead>\n",
       "\t<tr><th scope=col>id</th><th scope=col>date</th><th scope=col>total_steps</th><th scope=col>total_distance</th><th scope=col>tracker_distance</th><th scope=col>logged_activities_distance</th><th scope=col>very_active_distance</th><th scope=col>moderately_active_distance</th><th scope=col>light_active_distance</th><th scope=col>sedentary_active_distance</th><th scope=col>very_active_minutes</th><th scope=col>fairly_active_minutes</th><th scope=col>lightly_active_minutes</th><th scope=col>sedentary_minutes</th><th scope=col>total_calories</th><th scope=col>total_sleep_records</th><th scope=col>total_minutes_asleep</th><th scope=col>total_time_in_bed</th><th scope=col>weekdays</th></tr>\n",
       "\t<tr><th scope=col>&lt;dbl&gt;</th><th scope=col>&lt;date&gt;</th><th scope=col>&lt;dbl&gt;</th><th scope=col>&lt;dbl&gt;</th><th scope=col>&lt;dbl&gt;</th><th scope=col>&lt;dbl&gt;</th><th scope=col>&lt;dbl&gt;</th><th scope=col>&lt;dbl&gt;</th><th scope=col>&lt;dbl&gt;</th><th scope=col>&lt;dbl&gt;</th><th scope=col>&lt;dbl&gt;</th><th scope=col>&lt;dbl&gt;</th><th scope=col>&lt;dbl&gt;</th><th scope=col>&lt;dbl&gt;</th><th scope=col>&lt;dbl&gt;</th><th scope=col>&lt;dbl&gt;</th><th scope=col>&lt;dbl&gt;</th><th scope=col>&lt;dbl&gt;</th><th scope=col>&lt;chr&gt;</th></tr>\n",
       "</thead>\n",
       "<tbody>\n",
       "\t<tr><td>7007744171</td><td>2016-05-01</td><td>5600</td><td>3.75</td><td>3.75</td><td>0</td><td>0</td><td>0</td><td>3.75</td><td>0</td><td>0</td><td>0</td><td>237</td><td>1142</td><td>2225</td><td>1</td><td>58</td><td>61</td><td>Sunday</td></tr>\n",
       "</tbody>\n",
       "</table>\n"
      ],
      "text/latex": [
       "A data.frame: 1 × 19\n",
       "\\begin{tabular}{lllllllllllllllllll}\n",
       " id & date & total\\_steps & total\\_distance & tracker\\_distance & logged\\_activities\\_distance & very\\_active\\_distance & moderately\\_active\\_distance & light\\_active\\_distance & sedentary\\_active\\_distance & very\\_active\\_minutes & fairly\\_active\\_minutes & lightly\\_active\\_minutes & sedentary\\_minutes & total\\_calories & total\\_sleep\\_records & total\\_minutes\\_asleep & total\\_time\\_in\\_bed & weekdays\\\\\n",
       " <dbl> & <date> & <dbl> & <dbl> & <dbl> & <dbl> & <dbl> & <dbl> & <dbl> & <dbl> & <dbl> & <dbl> & <dbl> & <dbl> & <dbl> & <dbl> & <dbl> & <dbl> & <chr>\\\\\n",
       "\\hline\n",
       "\t 7007744171 & 2016-05-01 & 5600 & 3.75 & 3.75 & 0 & 0 & 0 & 3.75 & 0 & 0 & 0 & 237 & 1142 & 2225 & 1 & 58 & 61 & Sunday\\\\\n",
       "\\end{tabular}\n"
      ],
      "text/markdown": [
       "\n",
       "A data.frame: 1 × 19\n",
       "\n",
       "| id &lt;dbl&gt; | date &lt;date&gt; | total_steps &lt;dbl&gt; | total_distance &lt;dbl&gt; | tracker_distance &lt;dbl&gt; | logged_activities_distance &lt;dbl&gt; | very_active_distance &lt;dbl&gt; | moderately_active_distance &lt;dbl&gt; | light_active_distance &lt;dbl&gt; | sedentary_active_distance &lt;dbl&gt; | very_active_minutes &lt;dbl&gt; | fairly_active_minutes &lt;dbl&gt; | lightly_active_minutes &lt;dbl&gt; | sedentary_minutes &lt;dbl&gt; | total_calories &lt;dbl&gt; | total_sleep_records &lt;dbl&gt; | total_minutes_asleep &lt;dbl&gt; | total_time_in_bed &lt;dbl&gt; | weekdays &lt;chr&gt; |\n",
       "|---|---|---|---|---|---|---|---|---|---|---|---|---|---|---|---|---|---|---|\n",
       "| 7007744171 | 2016-05-01 | 5600 | 3.75 | 3.75 | 0 | 0 | 0 | 3.75 | 0 | 0 | 0 | 237 | 1142 | 2225 | 1 | 58 | 61 | Sunday |\n",
       "\n"
      ],
      "text/plain": [
       "  id         date       total_steps total_distance tracker_distance\n",
       "1 7007744171 2016-05-01 5600        3.75           3.75            \n",
       "  logged_activities_distance very_active_distance moderately_active_distance\n",
       "1 0                          0                    0                         \n",
       "  light_active_distance sedentary_active_distance very_active_minutes\n",
       "1 3.75                  0                         0                  \n",
       "  fairly_active_minutes lightly_active_minutes sedentary_minutes total_calories\n",
       "1 0                     237                    1142              2225          \n",
       "  total_sleep_records total_minutes_asleep total_time_in_bed weekdays\n",
       "1 1                   58                   61                Sunday  "
      ]
     },
     "metadata": {},
     "output_type": "display_data"
    }
   ],
   "source": [
    "filter(merged_daily_summary, total_minutes_asleep == 796)\n",
    "filter(merged_daily_summary, total_minutes_asleep == 58)"
   ]
  },
  {
   "cell_type": "markdown",
   "id": "26901a5a",
   "metadata": {
    "papermill": {
     "duration": 0.015056,
     "end_time": "2022-06-30T20:09:23.024801",
     "exception": false,
     "start_time": "2022-06-30T20:09:23.009745",
     "status": "completed"
    },
    "tags": []
   },
   "source": [
    "Moday had the longest duration of sleep with the least actvity and less steps taken while Sunday had the least duration of sleep with more activity and total steps taken. It is observed that the user with more activity slept less than the user with less activity."
   ]
  },
  {
   "cell_type": "markdown",
   "id": "38ee6b67",
   "metadata": {
    "papermill": {
     "duration": 0.015131,
     "end_time": "2022-06-30T20:09:23.054559",
     "exception": false,
     "start_time": "2022-06-30T20:09:23.039428",
     "status": "completed"
    },
    "tags": []
   },
   "source": [
    "From basic research, the recommended hours of sleep for the average healthy person is 7(420 minutes) to 9 hours(540 minutes). We can check how many times people had between 7 to 9 hours of sleep"
   ]
  },
  {
   "cell_type": "code",
   "execution_count": 19,
   "id": "3025c2ad",
   "metadata": {
    "execution": {
     "iopub.execute_input": "2022-06-30T20:09:23.086824Z",
     "iopub.status.busy": "2022-06-30T20:09:23.085182Z",
     "iopub.status.idle": "2022-06-30T20:09:23.126609Z",
     "shell.execute_reply": "2022-06-30T20:09:23.124670Z"
    },
    "papermill": {
     "duration": 0.060515,
     "end_time": "2022-06-30T20:09:23.129287",
     "exception": false,
     "start_time": "2022-06-30T20:09:23.068772",
     "status": "completed"
    },
    "tags": []
   },
   "outputs": [
    {
     "data": {
      "text/html": [
       "<table class=\"dataframe\">\n",
       "<caption>A data.frame: 2 × 2</caption>\n",
       "<thead>\n",
       "\t<tr><th scope=col>total_minutes_asleep &gt;= 420 &amp; total_minutes_asleep &lt;= 540</th><th scope=col>n</th></tr>\n",
       "\t<tr><th scope=col>&lt;lgl&gt;</th><th scope=col>&lt;int&gt;</th></tr>\n",
       "</thead>\n",
       "<tbody>\n",
       "\t<tr><td>FALSE</td><td>221</td></tr>\n",
       "\t<tr><td> TRUE</td><td>192</td></tr>\n",
       "</tbody>\n",
       "</table>\n"
      ],
      "text/latex": [
       "A data.frame: 2 × 2\n",
       "\\begin{tabular}{ll}\n",
       " total\\_minutes\\_asleep >= 420 \\& total\\_minutes\\_asleep <= 540 & n\\\\\n",
       " <lgl> & <int>\\\\\n",
       "\\hline\n",
       "\t FALSE & 221\\\\\n",
       "\t  TRUE & 192\\\\\n",
       "\\end{tabular}\n"
      ],
      "text/markdown": [
       "\n",
       "A data.frame: 2 × 2\n",
       "\n",
       "| total_minutes_asleep &gt;= 420 &amp; total_minutes_asleep &lt;= 540 &lt;lgl&gt; | n &lt;int&gt; |\n",
       "|---|---|\n",
       "| FALSE | 221 |\n",
       "|  TRUE | 192 |\n",
       "\n"
      ],
      "text/plain": [
       "  total_minutes_asleep >= 420 & total_minutes_asleep <= 540 n  \n",
       "1 FALSE                                                     221\n",
       "2  TRUE                                                     192"
      ]
     },
     "metadata": {},
     "output_type": "display_data"
    }
   ],
   "source": [
    "count(merged_daily_summary, total_minutes_asleep >= 420 & total_minutes_asleep <= 540)"
   ]
  },
  {
   "cell_type": "markdown",
   "id": "1854005c",
   "metadata": {
    "papermill": {
     "duration": 0.015364,
     "end_time": "2022-06-30T20:09:23.159376",
     "exception": false,
     "start_time": "2022-06-30T20:09:23.144012",
     "status": "completed"
    },
    "tags": []
   },
   "source": [
    "we can also check how many times people had less than 7 hours of sleep and more than 9 hours of sleep"
   ]
  },
  {
   "cell_type": "code",
   "execution_count": 20,
   "id": "1b0f263d",
   "metadata": {
    "execution": {
     "iopub.execute_input": "2022-06-30T20:09:23.192898Z",
     "iopub.status.busy": "2022-06-30T20:09:23.191360Z",
     "iopub.status.idle": "2022-06-30T20:09:23.263553Z",
     "shell.execute_reply": "2022-06-30T20:09:23.261355Z"
    },
    "papermill": {
     "duration": 0.092456,
     "end_time": "2022-06-30T20:09:23.266759",
     "exception": false,
     "start_time": "2022-06-30T20:09:23.174303",
     "status": "completed"
    },
    "tags": []
   },
   "outputs": [
    {
     "data": {
      "text/html": [
       "<table class=\"dataframe\">\n",
       "<caption>A data.frame: 2 × 2</caption>\n",
       "<thead>\n",
       "\t<tr><th scope=col>total_minutes_asleep &lt; 420</th><th scope=col>n</th></tr>\n",
       "\t<tr><th scope=col>&lt;lgl&gt;</th><th scope=col>&lt;int&gt;</th></tr>\n",
       "</thead>\n",
       "<tbody>\n",
       "\t<tr><td>FALSE</td><td>231</td></tr>\n",
       "\t<tr><td> TRUE</td><td>182</td></tr>\n",
       "</tbody>\n",
       "</table>\n"
      ],
      "text/latex": [
       "A data.frame: 2 × 2\n",
       "\\begin{tabular}{ll}\n",
       " total\\_minutes\\_asleep < 420 & n\\\\\n",
       " <lgl> & <int>\\\\\n",
       "\\hline\n",
       "\t FALSE & 231\\\\\n",
       "\t  TRUE & 182\\\\\n",
       "\\end{tabular}\n"
      ],
      "text/markdown": [
       "\n",
       "A data.frame: 2 × 2\n",
       "\n",
       "| total_minutes_asleep &lt; 420 &lt;lgl&gt; | n &lt;int&gt; |\n",
       "|---|---|\n",
       "| FALSE | 231 |\n",
       "|  TRUE | 182 |\n",
       "\n"
      ],
      "text/plain": [
       "  total_minutes_asleep < 420 n  \n",
       "1 FALSE                      231\n",
       "2  TRUE                      182"
      ]
     },
     "metadata": {},
     "output_type": "display_data"
    },
    {
     "data": {
      "text/html": [
       "<table class=\"dataframe\">\n",
       "<caption>A data.frame: 2 × 2</caption>\n",
       "<thead>\n",
       "\t<tr><th scope=col>total_minutes_asleep &gt; 540</th><th scope=col>n</th></tr>\n",
       "\t<tr><th scope=col>&lt;lgl&gt;</th><th scope=col>&lt;int&gt;</th></tr>\n",
       "</thead>\n",
       "<tbody>\n",
       "\t<tr><td>FALSE</td><td>374</td></tr>\n",
       "\t<tr><td> TRUE</td><td> 39</td></tr>\n",
       "</tbody>\n",
       "</table>\n"
      ],
      "text/latex": [
       "A data.frame: 2 × 2\n",
       "\\begin{tabular}{ll}\n",
       " total\\_minutes\\_asleep > 540 & n\\\\\n",
       " <lgl> & <int>\\\\\n",
       "\\hline\n",
       "\t FALSE & 374\\\\\n",
       "\t  TRUE &  39\\\\\n",
       "\\end{tabular}\n"
      ],
      "text/markdown": [
       "\n",
       "A data.frame: 2 × 2\n",
       "\n",
       "| total_minutes_asleep &gt; 540 &lt;lgl&gt; | n &lt;int&gt; |\n",
       "|---|---|\n",
       "| FALSE | 374 |\n",
       "|  TRUE |  39 |\n",
       "\n"
      ],
      "text/plain": [
       "  total_minutes_asleep > 540 n  \n",
       "1 FALSE                      374\n",
       "2  TRUE                       39"
      ]
     },
     "metadata": {},
     "output_type": "display_data"
    }
   ],
   "source": [
    "count(merged_daily_summary, total_minutes_asleep < 420)\n",
    "count(merged_daily_summary, total_minutes_asleep > 540)"
   ]
  },
  {
   "cell_type": "markdown",
   "id": "b1c18fde",
   "metadata": {
    "papermill": {
     "duration": 0.015277,
     "end_time": "2022-06-30T20:09:23.296402",
     "exception": false,
     "start_time": "2022-06-30T20:09:23.281125",
     "status": "completed"
    },
    "tags": []
   },
   "source": [
    "Checking to see if there is a correlation between the total time spent in bed and the total minutes asleep to see if the time spent in bed influences the duration of sleep."
   ]
  },
  {
   "cell_type": "code",
   "execution_count": 21,
   "id": "8fe2fac8",
   "metadata": {
    "execution": {
     "iopub.execute_input": "2022-06-30T20:09:23.331682Z",
     "iopub.status.busy": "2022-06-30T20:09:23.330126Z",
     "iopub.status.idle": "2022-06-30T20:09:23.355472Z",
     "shell.execute_reply": "2022-06-30T20:09:23.353234Z"
    },
    "papermill": {
     "duration": 0.046587,
     "end_time": "2022-06-30T20:09:23.358644",
     "exception": false,
     "start_time": "2022-06-30T20:09:23.312057",
     "status": "completed"
    },
    "tags": []
   },
   "outputs": [
    {
     "data": {
      "text/html": [
       "<table class=\"dataframe\">\n",
       "<caption>A data.frame: 1 × 1</caption>\n",
       "<thead>\n",
       "\t<tr><th scope=col>cor(total_time_in_bed, total_minutes_asleep)</th></tr>\n",
       "\t<tr><th scope=col>&lt;dbl&gt;</th></tr>\n",
       "</thead>\n",
       "<tbody>\n",
       "\t<tr><td>0.9304575</td></tr>\n",
       "</tbody>\n",
       "</table>\n"
      ],
      "text/latex": [
       "A data.frame: 1 × 1\n",
       "\\begin{tabular}{l}\n",
       " cor(total\\_time\\_in\\_bed, total\\_minutes\\_asleep)\\\\\n",
       " <dbl>\\\\\n",
       "\\hline\n",
       "\t 0.9304575\\\\\n",
       "\\end{tabular}\n"
      ],
      "text/markdown": [
       "\n",
       "A data.frame: 1 × 1\n",
       "\n",
       "| cor(total_time_in_bed, total_minutes_asleep) &lt;dbl&gt; |\n",
       "|---|\n",
       "| 0.9304575 |\n",
       "\n"
      ],
      "text/plain": [
       "  cor(total_time_in_bed, total_minutes_asleep)\n",
       "1 0.9304575                                   "
      ]
     },
     "metadata": {},
     "output_type": "display_data"
    }
   ],
   "source": [
    "merged_daily_summary %>%\n",
    "summarize(cor(total_time_in_bed, total_minutes_asleep))"
   ]
  },
  {
   "cell_type": "markdown",
   "id": "3d73afd7",
   "metadata": {
    "papermill": {
     "duration": 0.015314,
     "end_time": "2022-06-30T20:09:23.388598",
     "exception": false,
     "start_time": "2022-06-30T20:09:23.373284",
     "status": "completed"
    },
    "tags": []
   },
   "source": [
    "The correlation is very close to 1, this shows a close relationship exists between the time spent in bed and the duration of sleep. It is safe to say that the more time users spent in bed, the longer the duration of sleep they had."
   ]
  },
  {
   "cell_type": "markdown",
   "id": "d7311dd9",
   "metadata": {
    "papermill": {
     "duration": 0.015294,
     "end_time": "2022-06-30T20:09:23.419416",
     "exception": false,
     "start_time": "2022-06-30T20:09:23.404122",
     "status": "completed"
    },
    "tags": []
   },
   "source": [
    "To check for the maximum and minimum steps taken inorder to check for the most active day and less active day assuming the days with the most steps taken are the most active and vice versa"
   ]
  },
  {
   "cell_type": "code",
   "execution_count": 22,
   "id": "41258cb3",
   "metadata": {
    "execution": {
     "iopub.execute_input": "2022-06-30T20:09:23.454810Z",
     "iopub.status.busy": "2022-06-30T20:09:23.453183Z",
     "iopub.status.idle": "2022-06-30T20:09:23.481310Z",
     "shell.execute_reply": "2022-06-30T20:09:23.479308Z"
    },
    "papermill": {
     "duration": 0.04966,
     "end_time": "2022-06-30T20:09:23.483782",
     "exception": false,
     "start_time": "2022-06-30T20:09:23.434122",
     "status": "completed"
    },
    "tags": []
   },
   "outputs": [
    {
     "name": "stdout",
     "output_type": "stream",
     "text": [
      "[1] \"22770 is the maximum total steps taken\"\n",
      "[1] \"17 is the minimum total steps taken\"\n"
     ]
    }
   ],
   "source": [
    "max_step <- max(merged_daily_summary$total_steps)\n",
    "print(paste(max_step, 'is the maximum total steps taken'))\n",
    "\n",
    "min_step <- min(merged_daily_summary$total_steps)\n",
    "print(paste(min_step, 'is the minimum total steps taken'))"
   ]
  },
  {
   "cell_type": "markdown",
   "id": "34d23d4d",
   "metadata": {
    "papermill": {
     "duration": 0.014703,
     "end_time": "2022-06-30T20:09:23.512997",
     "exception": false,
     "start_time": "2022-06-30T20:09:23.498294",
     "status": "completed"
    },
    "tags": []
   },
   "source": [
    "Checking the days in which these values occur"
   ]
  },
  {
   "cell_type": "code",
   "execution_count": 23,
   "id": "7f99af93",
   "metadata": {
    "execution": {
     "iopub.execute_input": "2022-06-30T20:09:23.545421Z",
     "iopub.status.busy": "2022-06-30T20:09:23.543928Z",
     "iopub.status.idle": "2022-06-30T20:09:23.613630Z",
     "shell.execute_reply": "2022-06-30T20:09:23.611193Z"
    },
    "papermill": {
     "duration": 0.089667,
     "end_time": "2022-06-30T20:09:23.617256",
     "exception": false,
     "start_time": "2022-06-30T20:09:23.527589",
     "status": "completed"
    },
    "tags": []
   },
   "outputs": [
    {
     "data": {
      "text/html": [
       "<table class=\"dataframe\">\n",
       "<caption>A data.frame: 1 × 19</caption>\n",
       "<thead>\n",
       "\t<tr><th scope=col>id</th><th scope=col>date</th><th scope=col>total_steps</th><th scope=col>total_distance</th><th scope=col>tracker_distance</th><th scope=col>logged_activities_distance</th><th scope=col>very_active_distance</th><th scope=col>moderately_active_distance</th><th scope=col>light_active_distance</th><th scope=col>sedentary_active_distance</th><th scope=col>very_active_minutes</th><th scope=col>fairly_active_minutes</th><th scope=col>lightly_active_minutes</th><th scope=col>sedentary_minutes</th><th scope=col>total_calories</th><th scope=col>total_sleep_records</th><th scope=col>total_minutes_asleep</th><th scope=col>total_time_in_bed</th><th scope=col>weekdays</th></tr>\n",
       "\t<tr><th scope=col>&lt;dbl&gt;</th><th scope=col>&lt;date&gt;</th><th scope=col>&lt;dbl&gt;</th><th scope=col>&lt;dbl&gt;</th><th scope=col>&lt;dbl&gt;</th><th scope=col>&lt;dbl&gt;</th><th scope=col>&lt;dbl&gt;</th><th scope=col>&lt;dbl&gt;</th><th scope=col>&lt;dbl&gt;</th><th scope=col>&lt;dbl&gt;</th><th scope=col>&lt;dbl&gt;</th><th scope=col>&lt;dbl&gt;</th><th scope=col>&lt;dbl&gt;</th><th scope=col>&lt;dbl&gt;</th><th scope=col>&lt;dbl&gt;</th><th scope=col>&lt;dbl&gt;</th><th scope=col>&lt;dbl&gt;</th><th scope=col>&lt;dbl&gt;</th><th scope=col>&lt;chr&gt;</th></tr>\n",
       "</thead>\n",
       "<tbody>\n",
       "\t<tr><td>4388161847</td><td>2016-05-07</td><td>22770</td><td>17.54</td><td>17.54</td><td>0</td><td>9.45</td><td>2.77</td><td>5.33</td><td>0</td><td>120</td><td>56</td><td>260</td><td>508</td><td>4022</td><td>1</td><td>472</td><td>496</td><td>Saturday</td></tr>\n",
       "</tbody>\n",
       "</table>\n"
      ],
      "text/latex": [
       "A data.frame: 1 × 19\n",
       "\\begin{tabular}{lllllllllllllllllll}\n",
       " id & date & total\\_steps & total\\_distance & tracker\\_distance & logged\\_activities\\_distance & very\\_active\\_distance & moderately\\_active\\_distance & light\\_active\\_distance & sedentary\\_active\\_distance & very\\_active\\_minutes & fairly\\_active\\_minutes & lightly\\_active\\_minutes & sedentary\\_minutes & total\\_calories & total\\_sleep\\_records & total\\_minutes\\_asleep & total\\_time\\_in\\_bed & weekdays\\\\\n",
       " <dbl> & <date> & <dbl> & <dbl> & <dbl> & <dbl> & <dbl> & <dbl> & <dbl> & <dbl> & <dbl> & <dbl> & <dbl> & <dbl> & <dbl> & <dbl> & <dbl> & <dbl> & <chr>\\\\\n",
       "\\hline\n",
       "\t 4388161847 & 2016-05-07 & 22770 & 17.54 & 17.54 & 0 & 9.45 & 2.77 & 5.33 & 0 & 120 & 56 & 260 & 508 & 4022 & 1 & 472 & 496 & Saturday\\\\\n",
       "\\end{tabular}\n"
      ],
      "text/markdown": [
       "\n",
       "A data.frame: 1 × 19\n",
       "\n",
       "| id &lt;dbl&gt; | date &lt;date&gt; | total_steps &lt;dbl&gt; | total_distance &lt;dbl&gt; | tracker_distance &lt;dbl&gt; | logged_activities_distance &lt;dbl&gt; | very_active_distance &lt;dbl&gt; | moderately_active_distance &lt;dbl&gt; | light_active_distance &lt;dbl&gt; | sedentary_active_distance &lt;dbl&gt; | very_active_minutes &lt;dbl&gt; | fairly_active_minutes &lt;dbl&gt; | lightly_active_minutes &lt;dbl&gt; | sedentary_minutes &lt;dbl&gt; | total_calories &lt;dbl&gt; | total_sleep_records &lt;dbl&gt; | total_minutes_asleep &lt;dbl&gt; | total_time_in_bed &lt;dbl&gt; | weekdays &lt;chr&gt; |\n",
       "|---|---|---|---|---|---|---|---|---|---|---|---|---|---|---|---|---|---|---|\n",
       "| 4388161847 | 2016-05-07 | 22770 | 17.54 | 17.54 | 0 | 9.45 | 2.77 | 5.33 | 0 | 120 | 56 | 260 | 508 | 4022 | 1 | 472 | 496 | Saturday |\n",
       "\n"
      ],
      "text/plain": [
       "  id         date       total_steps total_distance tracker_distance\n",
       "1 4388161847 2016-05-07 22770       17.54          17.54           \n",
       "  logged_activities_distance very_active_distance moderately_active_distance\n",
       "1 0                          9.45                 2.77                      \n",
       "  light_active_distance sedentary_active_distance very_active_minutes\n",
       "1 5.33                  0                         120                \n",
       "  fairly_active_minutes lightly_active_minutes sedentary_minutes total_calories\n",
       "1 56                    260                    508               4022          \n",
       "  total_sleep_records total_minutes_asleep total_time_in_bed weekdays\n",
       "1 1                   472                  496               Saturday"
      ]
     },
     "metadata": {},
     "output_type": "display_data"
    },
    {
     "data": {
      "text/html": [
       "<table class=\"dataframe\">\n",
       "<caption>A data.frame: 1 × 19</caption>\n",
       "<thead>\n",
       "\t<tr><th scope=col>id</th><th scope=col>date</th><th scope=col>total_steps</th><th scope=col>total_distance</th><th scope=col>tracker_distance</th><th scope=col>logged_activities_distance</th><th scope=col>very_active_distance</th><th scope=col>moderately_active_distance</th><th scope=col>light_active_distance</th><th scope=col>sedentary_active_distance</th><th scope=col>very_active_minutes</th><th scope=col>fairly_active_minutes</th><th scope=col>lightly_active_minutes</th><th scope=col>sedentary_minutes</th><th scope=col>total_calories</th><th scope=col>total_sleep_records</th><th scope=col>total_minutes_asleep</th><th scope=col>total_time_in_bed</th><th scope=col>weekdays</th></tr>\n",
       "\t<tr><th scope=col>&lt;dbl&gt;</th><th scope=col>&lt;date&gt;</th><th scope=col>&lt;dbl&gt;</th><th scope=col>&lt;dbl&gt;</th><th scope=col>&lt;dbl&gt;</th><th scope=col>&lt;dbl&gt;</th><th scope=col>&lt;dbl&gt;</th><th scope=col>&lt;dbl&gt;</th><th scope=col>&lt;dbl&gt;</th><th scope=col>&lt;dbl&gt;</th><th scope=col>&lt;dbl&gt;</th><th scope=col>&lt;dbl&gt;</th><th scope=col>&lt;dbl&gt;</th><th scope=col>&lt;dbl&gt;</th><th scope=col>&lt;dbl&gt;</th><th scope=col>&lt;dbl&gt;</th><th scope=col>&lt;dbl&gt;</th><th scope=col>&lt;dbl&gt;</th><th scope=col>&lt;chr&gt;</th></tr>\n",
       "</thead>\n",
       "<tbody>\n",
       "\t<tr><td>4319703577</td><td>2016-05-12</td><td>17</td><td>0.01</td><td>0.01</td><td>0</td><td>0</td><td>0</td><td>0.01</td><td>0</td><td>0</td><td>0</td><td>2</td><td>0</td><td>257</td><td>1</td><td>302</td><td>321</td><td>Thursday</td></tr>\n",
       "</tbody>\n",
       "</table>\n"
      ],
      "text/latex": [
       "A data.frame: 1 × 19\n",
       "\\begin{tabular}{lllllllllllllllllll}\n",
       " id & date & total\\_steps & total\\_distance & tracker\\_distance & logged\\_activities\\_distance & very\\_active\\_distance & moderately\\_active\\_distance & light\\_active\\_distance & sedentary\\_active\\_distance & very\\_active\\_minutes & fairly\\_active\\_minutes & lightly\\_active\\_minutes & sedentary\\_minutes & total\\_calories & total\\_sleep\\_records & total\\_minutes\\_asleep & total\\_time\\_in\\_bed & weekdays\\\\\n",
       " <dbl> & <date> & <dbl> & <dbl> & <dbl> & <dbl> & <dbl> & <dbl> & <dbl> & <dbl> & <dbl> & <dbl> & <dbl> & <dbl> & <dbl> & <dbl> & <dbl> & <dbl> & <chr>\\\\\n",
       "\\hline\n",
       "\t 4319703577 & 2016-05-12 & 17 & 0.01 & 0.01 & 0 & 0 & 0 & 0.01 & 0 & 0 & 0 & 2 & 0 & 257 & 1 & 302 & 321 & Thursday\\\\\n",
       "\\end{tabular}\n"
      ],
      "text/markdown": [
       "\n",
       "A data.frame: 1 × 19\n",
       "\n",
       "| id &lt;dbl&gt; | date &lt;date&gt; | total_steps &lt;dbl&gt; | total_distance &lt;dbl&gt; | tracker_distance &lt;dbl&gt; | logged_activities_distance &lt;dbl&gt; | very_active_distance &lt;dbl&gt; | moderately_active_distance &lt;dbl&gt; | light_active_distance &lt;dbl&gt; | sedentary_active_distance &lt;dbl&gt; | very_active_minutes &lt;dbl&gt; | fairly_active_minutes &lt;dbl&gt; | lightly_active_minutes &lt;dbl&gt; | sedentary_minutes &lt;dbl&gt; | total_calories &lt;dbl&gt; | total_sleep_records &lt;dbl&gt; | total_minutes_asleep &lt;dbl&gt; | total_time_in_bed &lt;dbl&gt; | weekdays &lt;chr&gt; |\n",
       "|---|---|---|---|---|---|---|---|---|---|---|---|---|---|---|---|---|---|---|\n",
       "| 4319703577 | 2016-05-12 | 17 | 0.01 | 0.01 | 0 | 0 | 0 | 0.01 | 0 | 0 | 0 | 2 | 0 | 257 | 1 | 302 | 321 | Thursday |\n",
       "\n"
      ],
      "text/plain": [
       "  id         date       total_steps total_distance tracker_distance\n",
       "1 4319703577 2016-05-12 17          0.01           0.01            \n",
       "  logged_activities_distance very_active_distance moderately_active_distance\n",
       "1 0                          0                    0                         \n",
       "  light_active_distance sedentary_active_distance very_active_minutes\n",
       "1 0.01                  0                         0                  \n",
       "  fairly_active_minutes lightly_active_minutes sedentary_minutes total_calories\n",
       "1 0                     2                      0                 257           \n",
       "  total_sleep_records total_minutes_asleep total_time_in_bed weekdays\n",
       "1 1                   302                  321               Thursday"
      ]
     },
     "metadata": {},
     "output_type": "display_data"
    }
   ],
   "source": [
    "filter(merged_daily_summary, total_steps == 22770)\n",
    "filter(merged_daily_summary, total_steps == 17)"
   ]
  },
  {
   "cell_type": "markdown",
   "id": "f7fbc055",
   "metadata": {
    "papermill": {
     "duration": 0.015736,
     "end_time": "2022-06-30T20:09:23.649127",
     "exception": false,
     "start_time": "2022-06-30T20:09:23.633391",
     "status": "completed"
    },
    "tags": []
   },
   "source": [
    "It can be observed that Saturdays are the most active days and Thursdays are the least active days. It can also be observed that the day with the highest total steps had the highest calories burned and vice versa. So it is safe to say that users who took more steps burned more calories than users who took less steps."
   ]
  },
  {
   "cell_type": "markdown",
   "id": "0d191687",
   "metadata": {
    "papermill": {
     "duration": 0.016355,
     "end_time": "2022-06-30T20:09:23.681249",
     "exception": false,
     "start_time": "2022-06-30T20:09:23.664894",
     "status": "completed"
    },
    "tags": []
   },
   "source": [
    "Checking weight log information to see how many users actively entered in their weights"
   ]
  },
  {
   "cell_type": "code",
   "execution_count": 24,
   "id": "37daadfb",
   "metadata": {
    "execution": {
     "iopub.execute_input": "2022-06-30T20:09:23.715792Z",
     "iopub.status.busy": "2022-06-30T20:09:23.714136Z",
     "iopub.status.idle": "2022-06-30T20:09:23.752124Z",
     "shell.execute_reply": "2022-06-30T20:09:23.750011Z"
    },
    "papermill": {
     "duration": 0.059008,
     "end_time": "2022-06-30T20:09:23.755543",
     "exception": false,
     "start_time": "2022-06-30T20:09:23.696535",
     "status": "completed"
    },
    "tags": []
   },
   "outputs": [
    {
     "data": {
      "text/html": [
       "<table class=\"dataframe\">\n",
       "<caption>A spec_tbl_df: 8 × 2</caption>\n",
       "<thead>\n",
       "\t<tr><th scope=col>id</th><th scope=col>n</th></tr>\n",
       "\t<tr><th scope=col>&lt;dbl&gt;</th><th scope=col>&lt;int&gt;</th></tr>\n",
       "</thead>\n",
       "<tbody>\n",
       "\t<tr><td>1503960366</td><td> 2</td></tr>\n",
       "\t<tr><td>1927972279</td><td> 1</td></tr>\n",
       "\t<tr><td>2873212765</td><td> 2</td></tr>\n",
       "\t<tr><td>4319703577</td><td> 2</td></tr>\n",
       "\t<tr><td>4558609924</td><td> 5</td></tr>\n",
       "\t<tr><td>5577150313</td><td> 1</td></tr>\n",
       "\t<tr><td>6962181067</td><td>30</td></tr>\n",
       "\t<tr><td>8877689391</td><td>24</td></tr>\n",
       "</tbody>\n",
       "</table>\n"
      ],
      "text/latex": [
       "A spec\\_tbl\\_df: 8 × 2\n",
       "\\begin{tabular}{ll}\n",
       " id & n\\\\\n",
       " <dbl> & <int>\\\\\n",
       "\\hline\n",
       "\t 1503960366 &  2\\\\\n",
       "\t 1927972279 &  1\\\\\n",
       "\t 2873212765 &  2\\\\\n",
       "\t 4319703577 &  2\\\\\n",
       "\t 4558609924 &  5\\\\\n",
       "\t 5577150313 &  1\\\\\n",
       "\t 6962181067 & 30\\\\\n",
       "\t 8877689391 & 24\\\\\n",
       "\\end{tabular}\n"
      ],
      "text/markdown": [
       "\n",
       "A spec_tbl_df: 8 × 2\n",
       "\n",
       "| id &lt;dbl&gt; | n &lt;int&gt; |\n",
       "|---|---|\n",
       "| 1503960366 |  2 |\n",
       "| 1927972279 |  1 |\n",
       "| 2873212765 |  2 |\n",
       "| 4319703577 |  2 |\n",
       "| 4558609924 |  5 |\n",
       "| 5577150313 |  1 |\n",
       "| 6962181067 | 30 |\n",
       "| 8877689391 | 24 |\n",
       "\n"
      ],
      "text/plain": [
       "  id         n \n",
       "1 1503960366  2\n",
       "2 1927972279  1\n",
       "3 2873212765  2\n",
       "4 4319703577  2\n",
       "5 4558609924  5\n",
       "6 5577150313  1\n",
       "7 6962181067 30\n",
       "8 8877689391 24"
      ]
     },
     "metadata": {},
     "output_type": "display_data"
    }
   ],
   "source": [
    "#weight log\n",
    "weight_info<- count(weight_log_c, id)\n",
    "View(weight_info)"
   ]
  },
  {
   "cell_type": "markdown",
   "id": "63e9ec16",
   "metadata": {
    "papermill": {
     "duration": 0.014915,
     "end_time": "2022-06-30T20:09:23.786499",
     "exception": false,
     "start_time": "2022-06-30T20:09:23.771584",
     "status": "completed"
    },
    "tags": []
   },
   "source": [
    "The weight information shows that only two persons were a bit consistent in entering their weight information daily."
   ]
  },
  {
   "cell_type": "markdown",
   "id": "3224d8b5",
   "metadata": {
    "papermill": {
     "duration": 0.015575,
     "end_time": "2022-06-30T20:09:23.817385",
     "exception": false,
     "start_time": "2022-06-30T20:09:23.801810",
     "status": "completed"
    },
    "tags": []
   },
   "source": [
    "**SUMMARY OF ANALYSIS**\n",
    "\n",
    "* Data was obtained through survey.\n",
    "* The data was cleaned before analysis; the column names and date were formatted properly inorder to avoid errors when working with the data.\n",
    "* Though it was observed that there were missing values in the data but these values were not relevant in solving the business task so it was ignored.\n",
    "\n",
    "The data was insufficient and had limitations to make concrete conclusions but from the available data given, the following conclusions were drawn from analysis:\n",
    "\n",
    "* The data was collected for 33 participants who were actively involved for an average of 28 days out of 31 days\n",
    "* Users did not consistently record their activities for all the hours of the day, some users had a total record of less than 1440 minutes(24 hours).\n",
    "* Smart device users wear their devices to sleep very less often or log in sleep activity very less often, hence, there is insufficient record of sleeping pattern. However, from available data, it was seen that users had less of the recommended hours of sleep more often, this might be due to their activities during the day. Although there seems to be an outlier in the data; total number of minutes asleep. A particular user was recorded to have slept for 13 hours, this doesn't seem logical.\n",
    "* A close relationship exists between the time spent in bed and the duration of sleep. Users tend to spend less time in bed and that led to less sleep time, this could have led to the results of the previous analysis on sleep hours.This can probably be due to their more acive minutes in the day. The more time they spent on their activities, the less time they spent in bed and the less sleep hours they had.\n",
    "* It was also observed that users who took more steps burned more calories than users who took less steps.The most active day was Saturday while the least active day was Thursday\n",
    "* The weight information shows that only two persons were a bit consistent in entering their weight information daily. It could be that the other users didn't understand the importance of keeping track of this information or they couldn't make the time to enter this information.\n",
    "\n",
    "\n",
    "From analysis, I was able to gather insights that related to the business task. Trends and relationships were observed as to how costumers use their smart devices and limitations. These insights can help bellabeat improve on its own device and some of these limitations or challenges experienced and further improve on its marketing strategy."
   ]
  },
  {
   "cell_type": "markdown",
   "id": "2d049e6d",
   "metadata": {
    "papermill": {
     "duration": 0.016109,
     "end_time": "2022-06-30T20:09:23.849774",
     "exception": false,
     "start_time": "2022-06-30T20:09:23.833665",
     "status": "completed"
    },
    "tags": []
   },
   "source": [
    "**SHARING DATA**\n",
    "\n",
    "Visualizations were made using Rstudio to support findings from analysis. Scatter plots were used all through to show the relationship between certain variables."
   ]
  },
  {
   "cell_type": "code",
   "execution_count": 25,
   "id": "ac64f47e",
   "metadata": {
    "execution": {
     "iopub.execute_input": "2022-06-30T20:09:23.886168Z",
     "iopub.status.busy": "2022-06-30T20:09:23.884559Z",
     "iopub.status.idle": "2022-06-30T20:09:24.448398Z",
     "shell.execute_reply": "2022-06-30T20:09:24.446604Z"
    },
    "papermill": {
     "duration": 0.583829,
     "end_time": "2022-06-30T20:09:24.451081",
     "exception": false,
     "start_time": "2022-06-30T20:09:23.867252",
     "status": "completed"
    },
    "tags": []
   },
   "outputs": [
    {
     "data": {
      "image/png": "[encoded data removed]"
     },
     "metadata": {
      "image/png": {
       "height": 420,
       "width": 420
      }
     },
     "output_type": "display_data"
    }
   ],
   "source": [
    "#to check the most active weekday\n",
    "ggplot(merged_daily_summary, mapping=aes(x = weekdays, y = total_steps, color = id))+\n",
    "  geom_point()+\n",
    "labs(title = 'Users: average steps vs weekday', \n",
    "     subtitle = 'Most active days')"
   ]
  },
  {
   "cell_type": "markdown",
   "id": "6bd82d2d",
   "metadata": {
    "papermill": {
     "duration": 0.017892,
     "end_time": "2022-06-30T20:09:24.486280",
     "exception": false,
     "start_time": "2022-06-30T20:09:24.468388",
     "status": "completed"
    },
    "tags": []
   },
   "source": [
    "Saturdays were the most active days for users."
   ]
  },
  {
   "cell_type": "code",
   "execution_count": 26,
   "id": "f460b56f",
   "metadata": {
    "execution": {
     "iopub.execute_input": "2022-06-30T20:09:24.540573Z",
     "iopub.status.busy": "2022-06-30T20:09:24.524020Z",
     "iopub.status.idle": "2022-06-30T20:09:24.895706Z",
     "shell.execute_reply": "2022-06-30T20:09:24.893143Z"
    },
    "papermill": {
     "duration": 0.394787,
     "end_time": "2022-06-30T20:09:24.898871",
     "exception": false,
     "start_time": "2022-06-30T20:09:24.504084",
     "status": "completed"
    },
    "tags": []
   },
   "outputs": [
    {
     "data": {
      "image/png": "[encoded data removed]"
     },
     "metadata": {
      "image/png": {
       "height": 420,
       "width": 420
      }
     },
     "output_type": "display_data"
    }
   ],
   "source": [
    "#the weekday with the longest sleep duration\n",
    "ggplot(merged_daily_summary, mapping=aes(x = weekdays, y = total_minutes_asleep, color = id))+ \n",
    "  geom_point()+ geom_jitter()+\n",
    "  labs(title = 'Users: average minutes asleep vs weekdays',\n",
    "     subtitle =\"The day with the longest sleep time\")"
   ]
  },
  {
   "cell_type": "markdown",
   "id": "77aaab08",
   "metadata": {
    "papermill": {
     "duration": 0.020334,
     "end_time": "2022-06-30T20:09:24.940242",
     "exception": false,
     "start_time": "2022-06-30T20:09:24.919908",
     "status": "completed"
    },
    "tags": []
   },
   "source": [
    "The plot shows, user had the longest sleep duration on Monday."
   ]
  },
  {
   "cell_type": "markdown",
   "id": "6200d9ef",
   "metadata": {
    "papermill": {
     "duration": 0.019929,
     "end_time": "2022-06-30T20:09:24.980263",
     "exception": false,
     "start_time": "2022-06-30T20:09:24.960334",
     "status": "completed"
    },
    "tags": []
   },
   "source": []
  },
  {
   "cell_type": "code",
   "execution_count": 27,
   "id": "c311e1da",
   "metadata": {
    "execution": {
     "iopub.execute_input": "2022-06-30T20:09:25.024063Z",
     "iopub.status.busy": "2022-06-30T20:09:25.022401Z",
     "iopub.status.idle": "2022-06-30T20:09:25.371297Z",
     "shell.execute_reply": "2022-06-30T20:09:25.369452Z"
    },
    "papermill": {
     "duration": 0.373886,
     "end_time": "2022-06-30T20:09:25.374238",
     "exception": false,
     "start_time": "2022-06-30T20:09:25.000352",
     "status": "completed"
    },
    "tags": []
   },
   "outputs": [
    {
     "data": {
      "image/png": "[encoded data removed]"
     },
     "metadata": {
      "image/png": {
       "height": 420,
       "width": 420
      }
     },
     "output_type": "display_data"
    }
   ],
   "source": [
    "#how steps affect sleep duration\n",
    "ggplot(merged_daily_summary, mapping=aes(x = total_minutes_asleep, y = total_steps, color= id))+ \n",
    "  geom_point()+ geom_jitter()+\n",
    "  labs(title = 'Users: average steps vs average minutes asleep',\n",
    "       subtitle =\"To observe how steps affects sleep pattern\")"
   ]
  },
  {
   "cell_type": "markdown",
   "id": "17b6684e",
   "metadata": {
    "papermill": {
     "duration": 0.044826,
     "end_time": "2022-06-30T20:09:25.442676",
     "exception": false,
     "start_time": "2022-06-30T20:09:25.397850",
     "status": "completed"
    },
    "tags": []
   },
   "source": [
    "Users who took less steps slept longer than users who took more steps."
   ]
  },
  {
   "cell_type": "code",
   "execution_count": 28,
   "id": "8fa84c5e",
   "metadata": {
    "execution": {
     "iopub.execute_input": "2022-06-30T20:09:25.489457Z",
     "iopub.status.busy": "2022-06-30T20:09:25.487832Z",
     "iopub.status.idle": "2022-06-30T20:09:25.825391Z",
     "shell.execute_reply": "2022-06-30T20:09:25.823133Z"
    },
    "papermill": {
     "duration": 0.363792,
     "end_time": "2022-06-30T20:09:25.828276",
     "exception": false,
     "start_time": "2022-06-30T20:09:25.464484",
     "status": "completed"
    },
    "tags": []
   },
   "outputs": [
    {
     "data": {
      "image/png": "[encoded data removed]"
     },
     "metadata": {
      "image/png": {
       "height": 420,
       "width": 420
      }
     },
     "output_type": "display_data"
    }
   ],
   "source": [
    "#correlation between time in bed and minutes asleep\n",
    "ggplot(merged_daily_summary, mapping=aes(x = total_minutes_asleep, y = total_time_in_bed, color = id))+ \n",
    "  geom_point()+ geom_jitter()+\n",
    "  labs(title = 'Users: average time in bed vs average minutes asleep',\n",
    "       subtitle =\"How average time in bed influences average duration of sleep\")"
   ]
  },
  {
   "cell_type": "markdown",
   "id": "252608c5",
   "metadata": {
    "papermill": {
     "duration": 0.023242,
     "end_time": "2022-06-30T20:09:25.875791",
     "exception": false,
     "start_time": "2022-06-30T20:09:25.852549",
     "status": "completed"
    },
    "tags": []
   },
   "source": [
    "The plot demonstrates a strong relationship between total time in bed and total minutes asleep. It shows that users who spent more time in bed slept longer than users who did not."
   ]
  },
  {
   "cell_type": "markdown",
   "id": "cbe27ba7",
   "metadata": {
    "papermill": {
     "duration": 0.023599,
     "end_time": "2022-06-30T20:09:25.922077",
     "exception": false,
     "start_time": "2022-06-30T20:09:25.898478",
     "status": "completed"
    },
    "tags": []
   },
   "source": [
    "**RECOMMENDATIONS**\n",
    "\n",
    "Based on the conclusions from my analysis, these are my recommendations for bellabeat app\n",
    "\n",
    "* From observation, it was seen that users had poor sleping habit which isn't quite healthy. More activity led to less time in bed which also led to less sleep time; this could probably be as result of time imbalance. Bellabeat could design their app in a way that helps users manage this, for example, the app could be designed to create notifications for sleep time and recommend sleep durations.\n",
    "* More users seemed to be less active and the lesser the activity, the lesser the calories burned. The app can have features that enable users set target fitness activity daily, be notified to begin activity and be notified when a daily activity has been completed or is lagging.\n",
    "* The app could give users the opportunity to sign in at the beginning of daily activity and sign out at the end, so it could monitor and record appropriate data for the usage duration daily. It could also give users a daily notification of how much calories is being lost to encourage users to keep the momentum.\n",
    "* There should be a proper tracking of weight monthly as this helps users know their progress, the users can either be notified to fill their weight info or the app could be programmed to calculate the weight based on records of their daily activity and calories lost. This can be done monthly preferably.\n",
    "* Furthermore, bellabeat app should be designed in a way that it is simple to use for all age group. The more easy it is to use, the better costumers are able to use it.\n",
    "* It is important for bellabeat to maximize their ads to educate users and potential users on the benefit of the app which comes from appropriate usage and how best to use it, otherwise, bellabeat might upgrade all the features of its app and users might still not see the advantage or use it to the fullest potential.\n",
    "* Lastly, I would also recommend the app be designed to collect information like age, gender, lifestyle, preference, height and weight (with appropriate unit of measurements), when filling registration details, this information can also be collected during membership registration. For future analysis, sufficient data from sufficient number of users should also be collected through surveys to aid analysis and better improvement. Bias should be avoided as this can lead to inaccurate or insufficient analysis."
   ]
  }
 ],
 "metadata": {
  "kernelspec": {
   "display_name": "R",
   "language": "R",
   "name": "ir"
  },
  "language_info": {
   "codemirror_mode": "r",
   "file_extension": ".r",
   "mimetype": "text/x-r-source",
   "name": "R",
   "pygments_lexer": "r",
   "version": "4.0.5"
  },
  "papermill": {
   "default_parameters": {},
   "duration": 108.807939,
   "end_time": "2022-06-30T20:09:26.066612",
   "environment_variables": {},
   "exception": null,
   "input_path": "__notebook__.ipynb",
   "output_path": "__notebook__.ipynb",
   "parameters": {},
   "start_time": "2022-06-30T20:07:37.258673",
   "version": "2.3.4"
  }
 },
 "nbformat": 4,
 "nbformat_minor": 5
}
